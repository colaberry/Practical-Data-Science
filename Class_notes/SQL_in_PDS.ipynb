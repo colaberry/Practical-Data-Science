{
 "cells": [
  {
   "cell_type": "markdown",
   "metadata": {
    "collapsed": true
   },
   "source": [
    "### Steps to perform sql through Python\n",
    "\n",
    " 1. Import the sqlite library\n",
    " 2. Connect to a database (in-memory db, or external .db file) using the .connect() method\n",
    " 3. Create a cursor to transfer control, use .cursor() method on the connection object\n",
    " 4. Execute a query on the database using .execute() on the cursor object\n",
    " 5. Use fetchall(), fetchmany() etc., methods to capture results from the cursor object\n",
    " 6. Store or print fetched results\n",
    "\n",
    "### Closing workflow\n",
    "\n",
    " 7. Commit changes performed and record the transactional changes to the database using .commit() on the connection object\n",
    " 8. Roll back all changes, if needed, up to last commit, using the .rollback() method on the connection object\n",
    " 9. Close the connection to the database using the .close() method on the connection object"
   ]
  },
  {
   "cell_type": "code",
   "execution_count": 1,
   "metadata": {
    "collapsed": true
   },
   "outputs": [],
   "source": [
    "# Importing library\n",
    "import sqlite3 as sq\n",
    "\n",
    "# Creating conenction to local database\n",
    "new_conn = sq.connect(\"C:/sqlite/PDSdb.db\")\n",
    "\n",
    "# Creating connection to in-memory database\n",
    "# new_conn = sq.connect(:memory:)"
   ]
  },
  {
   "cell_type": "code",
   "execution_count": 2,
   "metadata": {
    "collapsed": true
   },
   "outputs": [],
   "source": [
    "# Creating cursor object\n",
    "new_cur = new_conn.cursor()"
   ]
  },
  {
   "cell_type": "code",
   "execution_count": 3,
   "metadata": {},
   "outputs": [
    {
     "data": {
      "text/plain": [
       "<sqlite3.Cursor at 0x190105ac030>"
      ]
     },
     "execution_count": 3,
     "metadata": {},
     "output_type": "execute_result"
    }
   ],
   "source": [
    "# Executing a query\n",
    "new_cur.execute(\"CREATE TABLE my_table (name TEXT, salary INTEGER);\")"
   ]
  },
  {
   "cell_type": "code",
   "execution_count": 4,
   "metadata": {},
   "outputs": [
    {
     "data": {
      "text/plain": [
       "<sqlite3.Cursor at 0x190105ac030>"
      ]
     },
     "execution_count": 4,
     "metadata": {},
     "output_type": "execute_result"
    }
   ],
   "source": [
    "# Executing a multi-line query using triple quotes\n",
    "new_cur.execute('''INSERT INTO my_table\n",
    "                    VALUES ('HEllo',20000);''')"
   ]
  },
  {
   "cell_type": "code",
   "execution_count": 5,
   "metadata": {},
   "outputs": [
    {
     "name": "stdout",
     "output_type": "stream",
     "text": [
      "[('HEllo', 20000)]\n"
     ]
    }
   ],
   "source": [
    "# Executing a query, fetching the results of the query from cursor object, storing the results and printing it out\n",
    "new_cur.execute(\"SELECT * FROM my_table;\")\n",
    "\n",
    "my_results = new_cur.fetchall()\n",
    "\n",
    "print(my_results)"
   ]
  },
  {
   "cell_type": "code",
   "execution_count": 6,
   "metadata": {
    "collapsed": true
   },
   "outputs": [],
   "source": [
    "# Executescript method to execute multiple SQL queries as a single script\n",
    "\n",
    "# new_cur.executescript('''CREATE\n",
    "#                         INSERT\n",
    "#                         UPDATE\n",
    "#                         SELECT''')"
   ]
  },
  {
   "cell_type": "code",
   "execution_count": 7,
   "metadata": {},
   "outputs": [
    {
     "name": "stdout",
     "output_type": "stream",
     "text": [
      "[('HEllo', 20000), ('HEllo', 20000)]\n"
     ]
    }
   ],
   "source": [
    "# Executemany method with ? placeholders\n",
    "new_cur.executemany(\"INSERT INTO my_table VALUES (?,?)\",my_results)\n",
    "\n",
    "# Looking at changes to the table, made from executemany method\n",
    "new_cur.execute(\"SELECT * FROM my_table;\")\n",
    "\n",
    "new_results = new_cur.fetchall()\n",
    "\n",
    "print(new_results)"
   ]
  },
  {
   "cell_type": "code",
   "execution_count": 8,
   "metadata": {},
   "outputs": [
    {
     "name": "stdout",
     "output_type": "stream",
     "text": [
      "[('HEllo', 20000), ('HEllo', 20000), ('HEllo', 20000), ('HEllo', 20000)]\n"
     ]
    }
   ],
   "source": [
    "# Executemany, one more example\n",
    "new_cur.executemany(\"INSERT INTO my_table VALUES (?,?)\",new_results)\n",
    "\n",
    "new_cur.execute(\"SELECT * FROM my_table;\")\n",
    "\n",
    "new_results = new_cur.fetchall()\n",
    "\n",
    "print(new_results)"
   ]
  },
  {
   "cell_type": "code",
   "execution_count": 9,
   "metadata": {},
   "outputs": [
    {
     "data": {
      "text/html": [
       "<div>\n",
       "<style>\n",
       "    .dataframe thead tr:only-child th {\n",
       "        text-align: right;\n",
       "    }\n",
       "\n",
       "    .dataframe thead th {\n",
       "        text-align: left;\n",
       "    }\n",
       "\n",
       "    .dataframe tbody tr th {\n",
       "        vertical-align: top;\n",
       "    }\n",
       "</style>\n",
       "<table border=\"1\" class=\"dataframe\">\n",
       "  <thead>\n",
       "    <tr style=\"text-align: right;\">\n",
       "      <th></th>\n",
       "      <th>customer_id</th>\n",
       "      <th>first_name</th>\n",
       "      <th>last_name</th>\n",
       "      <th>email</th>\n",
       "      <th>gender</th>\n",
       "      <th>city</th>\n",
       "      <th>state</th>\n",
       "    </tr>\n",
       "  </thead>\n",
       "  <tbody>\n",
       "    <tr>\n",
       "      <th>0</th>\n",
       "      <td>37-5426750</td>\n",
       "      <td>Tyne</td>\n",
       "      <td>de Najera</td>\n",
       "      <td>tdenajera0@berkeley.edu</td>\n",
       "      <td>Female</td>\n",
       "      <td>Young America</td>\n",
       "      <td>Minnesota</td>\n",
       "    </tr>\n",
       "    <tr>\n",
       "      <th>1</th>\n",
       "      <td>39-3501973</td>\n",
       "      <td>Latrena</td>\n",
       "      <td>Baake</td>\n",
       "      <td>lbaake1@wiley.com</td>\n",
       "      <td>Female</td>\n",
       "      <td>Topeka</td>\n",
       "      <td>Kansas</td>\n",
       "    </tr>\n",
       "    <tr>\n",
       "      <th>2</th>\n",
       "      <td>95-1806040</td>\n",
       "      <td>Cynthy</td>\n",
       "      <td>Bloor</td>\n",
       "      <td>cbloor2@photobucket.com</td>\n",
       "      <td>Female</td>\n",
       "      <td>Oklahoma City</td>\n",
       "      <td>Oklahoma</td>\n",
       "    </tr>\n",
       "    <tr>\n",
       "      <th>3</th>\n",
       "      <td>89-9864273</td>\n",
       "      <td>Blondy</td>\n",
       "      <td>Huncoot</td>\n",
       "      <td>bhuncoot3@mtv.com</td>\n",
       "      <td>Female</td>\n",
       "      <td>New York City</td>\n",
       "      <td>New York</td>\n",
       "    </tr>\n",
       "    <tr>\n",
       "      <th>4</th>\n",
       "      <td>24-8062177</td>\n",
       "      <td>Nettle</td>\n",
       "      <td>Schorah</td>\n",
       "      <td>nschorah4@nydailynews.com</td>\n",
       "      <td>Female</td>\n",
       "      <td>Reno</td>\n",
       "      <td>Nevada</td>\n",
       "    </tr>\n",
       "  </tbody>\n",
       "</table>\n",
       "</div>"
      ],
      "text/plain": [
       "  customer_id first_name  last_name                      email  gender  \\\n",
       "0  37-5426750       Tyne  de Najera    tdenajera0@berkeley.edu  Female   \n",
       "1  39-3501973    Latrena      Baake          lbaake1@wiley.com  Female   \n",
       "2  95-1806040     Cynthy      Bloor    cbloor2@photobucket.com  Female   \n",
       "3  89-9864273     Blondy    Huncoot          bhuncoot3@mtv.com  Female   \n",
       "4  24-8062177     Nettle    Schorah  nschorah4@nydailynews.com  Female   \n",
       "\n",
       "            city      state  \n",
       "0  Young America  Minnesota  \n",
       "1         Topeka     Kansas  \n",
       "2  Oklahoma City   Oklahoma  \n",
       "3  New York City   New York  \n",
       "4           Reno     Nevada  "
      ]
     },
     "execution_count": 9,
     "metadata": {},
     "output_type": "execute_result"
    }
   ],
   "source": [
    "# Importing pandas library\n",
    "import pandas as pd\n",
    "\n",
    "# read_csv() method to read data from csv file into a dataframe object\n",
    "my_df = pd.read_csv(\"D:/Datasets/Sales_generated/customer.csv\")\n",
    "\n",
    "# printing the head of the dataframe, top 5 rows by default\n",
    "my_df.head()"
   ]
  },
  {
   "cell_type": "code",
   "execution_count": 11,
   "metadata": {
    "collapsed": true
   },
   "outputs": [],
   "source": [
    "# Pandas' to_sql() method to convert a dataframe object into a table in a given database, using the connection object\n",
    "my_df.to_sql(name=\"customer\",con=new_conn,if_exists='append',index=False)"
   ]
  },
  {
   "cell_type": "code",
   "execution_count": 12,
   "metadata": {},
   "outputs": [
    {
     "name": "stdout",
     "output_type": "stream",
     "text": [
      "[('37-5426750', 'Tyne', 'de Najera', 'tdenajera0@berkeley.edu', 'Female', 'Young America', 'Minnesota'), ('39-3501973', 'Latrena', 'Baake', 'lbaake1@wiley.com', 'Female', 'Topeka', 'Kansas'), ('95-1806040', 'Cynthy', 'Bloor', 'cbloor2@photobucket.com', 'Female', 'Oklahoma City', 'Oklahoma'), ('89-9864273', 'Blondy', 'Huncoot', 'bhuncoot3@mtv.com', 'Female', 'New York City', 'New York'), ('24-8062177', 'Nettle', 'Schorah', 'nschorah4@nydailynews.com', 'Female', 'Reno', 'Nevada'), ('43-3286318', 'Aubrie', 'Genn', 'agenn5@google.de', 'Female', 'Wichita Falls', 'Texas'), ('59-1091776', 'Lukas', 'Goodband', 'lgoodband6@huffingtonpost.com', 'Male', 'Orlando', 'Florida'), ('65-8424152', 'Ladonna', 'MacCard', 'lmaccard7@phoca.cz', 'Female', 'Columbus', 'Ohio'), ('12-5741922', 'Sallie', 'Perassi', 'sperassi8@fc2.com', 'Female', 'Shreveport', 'Louisiana'), ('20-5576856', 'Kirsteni', 'Jerrems', 'kjerrems9@irs.gov', 'Female', 'Honolulu', 'Hawaii')]\n"
     ]
    }
   ],
   "source": [
    "# Printing the results of above to_sql method to verify if it has worked\n",
    "new_cur.execute(\"SELECT * FROM customer LIMIT 10;\")\n",
    "\n",
    "my_results = new_cur.fetchall()\n",
    "\n",
    "print(my_results)"
   ]
  },
  {
   "cell_type": "code",
   "execution_count": 13,
   "metadata": {
    "collapsed": true
   },
   "outputs": [],
   "source": [
    "# Closing methods\n",
    "\n",
    "# new_conn.commit()\n",
    "# new_conn.rollback()\n",
    "new_conn.close()"
   ]
  },
  {
   "cell_type": "code",
   "execution_count": 14,
   "metadata": {
    "collapsed": true
   },
   "outputs": [],
   "source": [
    "# Connecting to a different database using a new connection object\n",
    "conn2 = sq.connect(\"C:/sqlite/salesdb.db\")"
   ]
  },
  {
   "cell_type": "code",
   "execution_count": 15,
   "metadata": {
    "collapsed": true
   },
   "outputs": [],
   "source": [
    "# Creating cursor object\n",
    "cur2 = conn2.cursor()\n",
    "\n",
    "# Creating a empty customer table\n",
    "cur2.execute('''CREATE TABLE customer(\n",
    "                customer_id CHAR(50) PRIMARY KEY NOT NULL,\n",
    "                first_name CHAR(50),\n",
    "                last_name CHAR(50),\n",
    "                email CHAR(50),\n",
    "                gender CHAR(50),\n",
    "                city CHAR(50),\n",
    "                state CHAR(50))''')\n",
    "\n",
    "# Reading csv file into customer dataframe\n",
    "cust_df = pd.read_csv(\"D:/Datasets/Sales_generated/customer.csv\")\n",
    "cust_df.head()\n",
    "\n",
    "# Adding data from customer dataframe to customer table\n",
    "cust_df.to_sql(name=\"customer\",con=conn2,if_exists='append',index=False)"
   ]
  },
  {
   "cell_type": "code",
   "execution_count": 16,
   "metadata": {
    "collapsed": true
   },
   "outputs": [],
   "source": [
    "# Creating a blank product table\n",
    "cur2.execute('''CREATE TABLE product(\n",
    "                product_id INT PRIMARY KEY NOT NULL,\n",
    "                product_name CHAR(50),\n",
    "                price_per_unit INT)''')\n",
    "\n",
    "# Reading csv file into product dataframe\n",
    "cust_df = pd.read_csv(\"D:/Datasets/Sales_generated/product.csv\")\n",
    "cust_df.head()\n",
    "\n",
    "# Adding data from customer dataframe to product table\n",
    "cust_df.to_sql(name=\"product\",con=conn2,if_exists='append',index=False)"
   ]
  },
  {
   "cell_type": "code",
   "execution_count": 17,
   "metadata": {
    "collapsed": true
   },
   "outputs": [],
   "source": [
    "# Creating a blank order table\n",
    "cur2.execute('''CREATE TABLE order_table(\n",
    "                    order_id CHAR(50) PRIMARY KEY NOT NULL,\n",
    "                    customer_id CHAR(50) NOT NULL,\n",
    "                    product_id INT NOT NULL,\n",
    "                    order_date DATE,\n",
    "                    quantity INT,\n",
    "                    order_total INT,\n",
    "                    FOREIGN KEY (customer_id) REFERENCES customer(customer_id),\n",
    "                    FOREIGN KEY (product_id) REFERENCES product(product_id))''')\n",
    "\n",
    "# Reading csv file into order dataframe\n",
    "cust_df = pd.read_csv(\"D:/Datasets/Sales_generated/order.csv\")\n",
    "cust_df.head()\n",
    "\n",
    "# Adding data from customer dataframe to order table\n",
    "cust_df.to_sql(name=\"order_table\",con=conn2,if_exists='append',index=False)"
   ]
  },
  {
   "cell_type": "code",
   "execution_count": 18,
   "metadata": {},
   "outputs": [
    {
     "name": "stdout",
     "output_type": "stream",
     "text": [
      "[('PA-2741', '06-6577274', 22, '12/15/2017', 4, 7.88), ('PO-7552', '67-4333755', 41, '9/21/2017', 3, 59.49), ('WI-5883', '01-2142588', 16, '10/8/2017', 3, 10.14), ('PO-3224', '06-5585322', 41, '10/2/2017', 5, 99.15), ('SC-5245', '77-6068524', 14, '3/18/2017', 3, 25.98), ('CR-7426', '77-1237742', 40, '3/27/2017', 3, 47.94), ('SO-7477', '83-4499747', 48, '11/30/2017', 4, 69.92), ('PA-0418', '18-1558041', 22, '9/7/2017', 2, 3.94), ('WI-5969', '53-3228596', 16, '3/27/2017', 4, 13.52), ('SC-19810', '97-4531198', 14, '12/18/2017', 4, 34.64)]\n"
     ]
    }
   ],
   "source": [
    "# Fetching and printing the order table from the database\n",
    "cur2.execute(\"SELECT * FROM order_table LIMIT 10;\")\n",
    "\n",
    "print(cur2.fetchall())"
   ]
  },
  {
   "cell_type": "code",
   "execution_count": 19,
   "metadata": {},
   "outputs": [
    {
     "name": "stdout",
     "output_type": "stream",
     "text": [
      "[('06-6577274', 'PA-2741', 22, 'Eldon'), ('67-4333755', 'PO-7552', 41, 'Brockie'), ('01-2142588', 'WI-5883', 16, 'Norry'), ('06-5585322', 'PO-3224', 41, 'Dag'), ('77-6068524', 'SC-5245', 14, 'Irv'), ('77-1237742', 'CR-7426', 40, 'Rachel'), ('83-4499747', 'SO-7477', 48, 'Alisun'), ('18-1558041', 'PA-0418', 22, 'Rhea'), ('53-3228596', 'WI-5969', 16, 'Halimeda'), ('97-4531198', 'SC-19810', 14, 'Harriette'), ('44-5440869', 'WI-86911', 2, 'Filmore'), ('91-8154210', 'BA-21012', 26, 'Caryn'), ('43-9360368', 'MU-36814', 50, 'Alexina'), ('07-4008306', 'SA-30615', 18, 'Trever'), ('67-4333755', 'BE-75516', 27, 'Brockie'), ('65-2826534', 'BE-53417', 35, 'Dukie'), ('88-6713945', 'BR-94518', 46, 'Nicolas'), ('76-7782679', 'PO-67919', 5, 'Crissy'), ('13-5366659', 'TO-65920', 17, 'Cherry'), ('88-6075278', 'WI-27821', 2, 'Nananne'), ('37-9440365', 'BU-36522', 29, 'Venita'), ('98-4447637', 'SO-63723', 48, 'Binnie'), ('44-5440869', 'SO-86924', 20, 'Filmore'), ('43-9973385', 'CR-38525', 40, 'Hubert'), ('45-0963931', 'BR-93126', 33, 'Rebeka'), ('95-1889655', 'PA-65527', 22, 'Morgan'), ('88-6713945', 'CR-94528', 40, 'Nicolas'), ('84-5538463', 'WI-46329', 16, 'Shelley'), ('99-3121195', 'MU-19530', 50, 'Nicol'), ('91-9041804', 'FL-80431', 38, 'Doug'), ('24-5924162', 'YU-16232', 3, 'Megen'), ('58-7506795', 'SO-79533', 20, 'Paule'), ('92-2410555', 'TO-55534', 17, 'Wood'), ('66-9721872', 'NU-87235', 25, 'Lilli'), ('45-6626902', 'SO-90236', 34, 'Leonhard'), ('35-6168493', 'FL-49337', 44, 'Kimberlee'), ('82-3741311', 'BE-31138', 43, 'Bancroft'), ('47-1526424', 'BA-42439', 26, 'Dinah'), ('88-6075278', 'YO-27840', 24, 'Nananne'), ('77-2872362', 'AP-36241', 9, 'Kennedy'), ('09-1806858', 'TA-85842', 39, 'Fields'), ('87-7670847', 'BR-84743', 13, 'Billi'), ('53-8190970', 'SO-97044', 30, 'Ollie'), ('11-2634892', 'EG-89245', 32, 'Win'), ('56-0522738', 'BR-73846', 13, 'Ingunna'), ('69-9694616', 'BU-61647', 31, 'Jocelin'), ('63-0848328', 'TR-32848', 19, 'Sax'), ('66-9244966', 'MU-96649', 45, 'Daffy'), ('70-5847756', 'AP-75650', 9, 'Ravid'), ('47-2165904', 'LA-90451', 11, 'Benjy'), ('97-5167337', 'SO-33752', 30, 'Hashim'), ('27-3506017', 'EG-01753', 32, 'Anne'), ('61-9065132', 'AP-13254', 9, 'Jolene'), ('71-9835103', 'AP-10355', 9, 'Inglebert'), ('54-4391089', 'BR-08956', 33, 'Queenie'), ('56-5476801', 'CH-80157', 28, 'Ban'), ('45-0963931', 'CR-93158', 40, 'Rebeka'), ('12-1425725', 'SO-72559', 48, 'Marillin'), ('66-3277371', 'WI-37160', 16, 'Carlita'), ('24-9658022', 'SO-02261', 48, 'Niki'), ('87-0239461', 'PO-46162', 41, 'Ogdon'), ('70-3529901', 'SO-90163', 34, 'Fonzie'), ('46-9130435', 'AP-43564', 23, 'Eimile'), ('98-8931780', 'PA-78065', 22, 'Scottie'), ('83-5505067', 'SA-06766', 47, 'Mina'), ('23-1357551', 'TA-55167', 39, 'Caro'), ('73-0516228', 'WI-22868', 16, 'Berke'), ('67-4333755', 'FL-75569', 44, 'Brockie'), ('48-1071537', 'BU-53770', 31, 'Fidelia'), ('25-4858158', 'BE-15871', 43, 'Carrissa'), ('82-6932146', 'MU-14672', 50, 'Mattheus'), ('97-7565956', 'BA-95673', 26, 'Carole'), ('47-1526424', 'BL-42474', 21, 'Dinah'), ('90-3317893', 'YO-89375', 24, 'Karina'), ('66-3277371', 'BA-37176', 26, 'Carlita'), ('73-9037903', 'NU-90377', 25, 'Michele'), ('58-3274439', 'CH-43978', 6, 'Douglas'), ('89-2151209', 'CH-20979', 6, 'Haven'), ('47-7165292', 'BE-29280', 43, 'Issiah'), ('81-0880743', 'MU-74381', 50, 'Tirrell'), ('87-7670847', 'LE-84782', 1, 'Billi'), ('43-9778120', 'MU-12083', 45, 'Auberta'), ('80-0912894', 'YO-89484', 24, 'Zita'), ('70-8356718', 'FL-71885', 38, 'Carma'), ('53-8190970', 'BR-97086', 46, 'Ollie'), ('09-3480982', 'CH-98287', 28, 'Ogdon'), ('47-2165904', 'SO-90488', 34, 'Benjy'), ('91-9543815', 'SO-81589', 34, 'Agnola'), ('31-2519268', 'GA-26890', 49, 'Marlo'), ('89-3139575', 'BR-57591', 46, 'Hansiain'), ('54-2976573', 'BE-57392', 35, 'Nydia'), ('78-5406936', 'BE-93693', 35, 'Arturo'), ('53-8190970', 'CO-97094', 4, 'Ollie'), ('83-8935137', 'WI-13795', 16, 'Alfy'), ('04-1541244', 'PA-24496', 22, 'Townsend'), ('95-1889655', 'YO-65597', 24, 'Morgan'), ('48-7595740', 'SO-74098', 48, 'Grantley'), ('56-5476801', 'SO-80199', 34, 'Ban'), ('55-6368102', 'CH-102100', 7, 'Worden'), ('92-5514353', 'FL-353101', 44, 'Marris'), ('66-3453116', 'AP-116102', 23, 'Alfie'), ('82-2038264', 'CR-264103', 40, 'Zorah'), ('31-8914415', 'BU-415104', 29, 'Sutherland'), ('58-7506795', 'FL-795105', 38, 'Paule'), ('11-2634892', 'MU-892106', 50, 'Win'), ('98-4447637', 'EG-637108', 32, 'Binnie'), ('83-4499747', 'EG-747109', 32, 'Alisun'), ('54-2976573', 'CH-573110', 7, 'Nydia'), ('95-8319097', 'TR-097111', 19, 'Julee'), ('07-7130378', 'WI-378112', 2, 'Mella'), ('96-1144518', 'SO-518113', 34, 'Octavia'), ('53-9112378', 'YU-378114', 3, 'Archy'), ('01-2142588', 'WI-588115', 2, 'Norry'), ('07-9731218', 'BU-218116', 31, 'Chickie'), ('63-2195367', 'AP-367117', 9, 'Lawry'), ('54-7080216', 'NU-216118', 25, 'Marve'), ('22-0151541', 'SO-541119', 48, 'Frankie'), ('70-3529901', 'CR-901120', 40, 'Fonzie'), ('46-9130435', 'WI-435121', 16, 'Eimile'), ('77-1237742', 'LA-742122', 11, 'Rachel'), ('77-1193619', 'AP-619123', 9, 'Vinita'), ('29-6204400', 'AP-400124', 23, 'Pacorro'), ('96-1144518', 'SO-518125', 20, 'Octavia'), ('80-0912894', 'CR-894126', 40, 'Zita'), ('23-1357551', 'FL-551127', 38, 'Caro'), ('31-8914415', 'YU-415128', 3, 'Sutherland'), ('71-9117156', 'TO-156129', 17, 'Curt'), ('64-0617716', 'BL-716130', 21, 'Arnuad'), ('77-2872362', 'LA-362131', 11, 'Kennedy'), ('82-6932146', 'WA-146132', 10, 'Mattheus'), ('56-5476801', 'MU-801133', 50, 'Ban'), ('54-2976573', 'PO-573134', 5, 'Nydia'), ('73-0516228', 'WA-228135', 10, 'Berke'), ('54-7080216', 'CL-216136', 12, 'Marve'), ('25-4858158', 'FL-158137', 38, 'Carrissa'), ('89-9708969', 'EG-969138', 32, 'Dniren'), ('46-0610152', 'CH-152139', 6, 'Christabel'), ('91-9041804', 'SA-804140', 18, 'Doug'), ('82-2038264', 'LE-264141', 1, 'Zorah'), ('74-3497473', 'CH-473142', 6, 'Hyacinthia'), ('75-2310967', 'SO-967143', 20, 'Georgeta'), ('66-9244966', 'LA-966144', 11, 'Daffy'), ('75-1282275', 'FO-275145', 37, 'Ira'), ('07-9731218', 'EG-218146', 32, 'Chickie'), ('09-1806858', 'CH-858147', 28, 'Fields'), ('56-0522738', 'EG-738148', 32, 'Ingunna'), ('48-7595740', 'BE-740149', 35, 'Grantley'), ('48-5969908', 'YU-908150', 3, 'Genni'), ('48-3550663', 'BE-663151', 27, 'Ruthanne'), ('82-2038264', 'TO-264152', 17, 'Zorah'), ('54-4391089', 'SO-089153', 20, 'Queenie'), ('52-2831500', 'WA-500154', 10, 'Sydney'), ('10-5399586', 'CH-586155', 28, 'Clerkclaude'), ('62-6749434', 'BL-434156', 21, 'Rivalee'), ('58-0821084', 'CH-084157', 7, 'Waiter'), ('87-0239461', 'CH-461158', 28, 'Ogdon'), ('76-5699419', 'CH-419159', 28, 'Son'), ('36-0731954', 'MU-954160', 45, 'Patrick'), ('24-9658022', 'BL-022161', 21, 'Niki'), ('24-6578725', 'PO-725162', 41, 'Lyssa'), ('43-9360368', 'BR-368163', 33, 'Alexina'), ('80-0248416', 'BL-416164', 21, 'Maggi'), ('76-7782679', 'LA-679165', 11, 'Crissy'), ('29-6204400', 'CL-400166', 12, 'Pacorro'), ('83-8476025', 'YO-025167', 24, 'Daune'), ('70-8356718', 'BR-718168', 13, 'Carma'), ('36-0731954', 'SO-954169', 30, 'Patrick'), ('41-0312488', 'CO-488170', 4, 'Douglas'), ('79-9908920', 'AP-920171', 23, 'Currey'), ('50-2384235', 'YO-235172', 24, 'Gaylene'), ('99-2126146', 'CO-146173', 4, 'Huntley'), ('10-5399586', 'CH-586174', 7, 'Clerkclaude'), ('80-9376212', 'AP-212175', 23, 'Fin'), ('59-0699977', 'TO-977176', 17, 'Lynsey'), ('37-1214200', 'PO-200177', 5, 'Kaine'), ('82-2038264', 'EG-264178', 32, 'Zorah'), ('73-5563650', 'TO-650179', 17, 'Northrup'), ('69-9694616', 'WI-616180', 8, 'Jocelin'), ('68-1791829', 'YO-829181', 24, 'Sarajane'), ('85-5191098', 'WI-098182', 2, 'Karna'), ('84-3454684', 'CH-684183', 7, 'Beth'), ('97-5167337', 'FL-337184', 44, 'Hashim'), ('07-9731218', 'SO-218185', 30, 'Chickie'), ('56-5476801', 'BE-801186', 15, 'Ban'), ('73-9037903', 'CH-903187', 6, 'Michele'), ('17-5320292', 'TO-292188', 17, 'Jarid'), ('29-6204400', 'CL-400189', 12, 'Pacorro'), ('91-7844451', 'TO-451190', 17, 'Kailey'), ('24-9658022', 'BA-022191', 26, 'Niki'), ('56-1592693', 'GO-693192', 42, 'Elmer'), ('47-2165904', 'PO-904193', 5, 'Benjy'), ('94-7756469', 'WI-469194', 8, 'Erek'), ('70-0400720', 'SA-720195', 18, 'Giustino'), ('54-7080216', 'WA-216196', 10, 'Marve'), ('20-9638328', 'SA-328197', 18, 'Ophelie'), ('59-0699977', 'CL-977198', 12, 'Lynsey'), ('91-7844451', 'CH-451199', 28, 'Kailey'), ('55-3120987', 'BL-987200', 21, 'Chandal'), ('84-1482139', 'BU-139201', 31, 'Guglielmo'), ('56-0522738', 'SA-738202', 47, 'Ingunna'), ('63-0848328', 'GO-328203', 42, 'Sax'), ('70-5847756', 'TA-756204', 39, 'Ravid'), ('07-1586110', 'WA-110205', 10, 'Cory'), ('65-5980866', 'EG-866206', 32, 'Nichols'), ('27-5911718', 'SO-718207', 34, 'Demetre'), ('17-6403999', 'TO-999208', 17, 'Thatcher'), ('65-0631406', 'GA-406209', 49, 'Nerissa'), ('11-2634892', 'PO-892210', 41, 'Win'), ('75-1282275', 'CR-275211', 40, 'Ira'), ('55-3120987', 'BE-987212', 35, 'Chandal'), ('87-0239461', 'WI-461213', 8, 'Ogdon'), ('71-3254362', 'BE-362214', 35, 'Kendell'), ('70-8356718', 'CH-718215', 7, 'Carma'), ('79-9908920', 'MU-920216', 45, 'Currey'), ('43-9973385', 'GA-385217', 49, 'Hubert'), ('91-9543815', 'BA-815218', 26, 'Agnola'), ('83-8935137', 'PA-137219', 22, 'Alfy'), ('66-9244966', 'CL-966220', 12, 'Daffy'), ('81-2523223', 'SA-223221', 47, 'Genny'), ('82-0775056', 'TR-056222', 19, 'Brandice'), ('18-1558041', 'LE-041223', 1, 'Rhea'), ('56-1592693', 'SC-693224', 14, 'Elmer'), ('35-6168493', 'WI-493225', 2, 'Kimberlee'), ('45-0963931', 'SA-931226', 47, 'Rebeka'), ('66-3277371', 'TO-371227', 17, 'Carlita'), ('01-8253746', 'YU-746228', 3, 'Rae'), ('21-6152815', 'CR-815229', 40, 'Vaughan'), ('07-7130378', 'WI-378230', 8, 'Mella'), ('35-4159713', 'CR-713231', 40, 'Bethina'), ('94-7756469', 'CH-469232', 6, 'Erek'), ('20-9638328', 'AP-328233', 23, 'Ophelie'), ('77-2872362', 'CH-362234', 28, 'Kennedy'), ('45-1774011', 'CR-011235', 40, 'Zahara'), ('71-9835103', 'TO-103236', 17, 'Inglebert'), ('26-4353798', 'NU-798237', 25, 'Shirley'), ('98-4447637', 'PA-637238', 22, 'Binnie'), ('35-6168493', 'MU-493239', 45, 'Kimberlee'), ('45-6626902', 'LA-902240', 11, 'Leonhard'), ('92-2410555', 'BR-555241', 46, 'Wood'), ('92-2410555', 'TR-555242', 19, 'Wood'), ('01-2142588', 'BU-588243', 31, 'Norry'), ('84-7638314', 'SO-314244', 20, 'Kurtis'), ('74-3497473', 'EG-473245', 32, 'Hyacinthia'), ('91-7844451', 'DO-451246', 36, 'Kailey'), ('46-0610152', 'WA-152247', 10, 'Christabel'), ('17-6403999', 'YO-999248', 24, 'Thatcher'), ('70-2547086', 'LE-086249', 1, 'Candida'), ('17-6403999', 'YU-999250', 3, 'Thatcher'), ('54-7080216', 'CR-216251', 40, 'Marve'), ('30-1734975', 'BE-975252', 15, 'Gian'), ('54-2250974', 'WA-974253', 10, 'Roobbie'), ('24-5924162', 'YO-162254', 24, 'Megen'), ('88-6075278', 'SO-278255', 20, 'Nananne'), ('63-2195367', 'BE-367256', 27, 'Lawry'), ('26-9722071', 'LE-071257', 1, 'Maurise'), ('93-4123833', 'SO-833258', 30, 'Simone'), ('96-1144518', 'BE-518259', 27, 'Octavia'), ('83-1847741', 'WA-741260', 10, 'Iormina'), ('55-6368102', 'GA-102261', 49, 'Worden'), ('91-9543815', 'NU-815262', 25, 'Agnola'), ('98-4053450', 'BL-450263', 21, 'Ivonne'), ('06-5585322', 'GO-322264', 42, 'Dag'), ('81-9872672', 'LA-672265', 11, 'Freedman'), ('04-5028446', 'WI-446266', 16, 'Ara'), ('97-4666853', 'TR-853267', 19, 'Margie'), ('65-4494328', 'AP-328268', 9, 'Addy'), ('89-3139575', 'SO-575269', 20, 'Hansiain'), ('83-1847741', 'PO-741270', 41, 'Iormina'), ('93-4123833', 'MU-833271', 45, 'Simone'), ('84-1482139', 'LE-139272', 1, 'Guglielmo'), ('84-3454684', 'BL-684273', 21, 'Beth'), ('28-6821581', 'SO-581274', 34, 'Carlye'), ('43-9360368', 'FL-368275', 44, 'Alexina'), ('58-3274439', 'CH-439276', 28, 'Douglas'), ('95-7439683', 'EG-683277', 32, 'Bee'), ('48-4503915', 'TO-915278', 17, 'Essa'), ('78-2287491', 'TO-491279', 17, 'Lin'), ('25-4858158', 'GA-158280', 49, 'Carrissa'), ('37-1214200', 'WI-200281', 8, 'Kaine'), ('55-3120987', 'SO-987282', 30, 'Chandal'), ('04-8079805', 'MU-805283', 50, 'Annamarie'), ('17-6216294', 'BL-294284', 21, 'Marlena'), ('07-4008306', 'BE-306285', 27, 'Trever'), ('47-7165292', 'PO-292286', 5, 'Issiah'), ('92-6909748', 'SO-748287', 20, 'Peterus'), ('29-5105605', 'WI-605288', 2, 'Biron'), ('89-2151209', 'EG-209289', 32, 'Haven'), ('92-6909748', 'WI-748290', 16, 'Peterus'), ('64-0617716', 'BU-716291', 29, 'Arnuad'), ('63-0848328', 'BE-328292', 15, 'Sax'), ('95-8319097', 'CH-097293', 6, 'Julee'), ('07-1586110', 'CL-110294', 12, 'Cory'), ('31-8914415', 'TA-415295', 39, 'Sutherland'), ('54-7080216', 'CR-216296', 40, 'Marve'), ('61-9065132', 'FL-132297', 44, 'Jolene'), ('75-5291978', 'BE-978298', 15, 'Clarita'), ('44-2191126', 'TO-126299', 17, 'Caryl'), ('35-7764582', 'PA-582300', 22, 'Lenard'), ('06-0250666', 'FL-666301', 44, 'Chlo'), ('43-9778120', 'CR-120302', 40, 'Auberta'), ('65-5980866', 'SA-866303', 47, 'Nichols'), ('81-0687872', 'EG-872304', 32, 'Sibley'), ('45-2700838', 'DO-838305', 36, 'Florenza'), ('37-1214200', 'SO-200306', 48, 'Kaine'), ('38-7383034', 'BA-034307', 26, 'Thurstan'), ('76-5699419', 'SA-419308', 18, 'Son'), ('04-8079805', 'PA-805309', 22, 'Annamarie'), ('82-3741311', 'CH-311310', 7, 'Bancroft'), ('59-7953063', 'TR-063311', 19, 'Dillon'), ('70-2547086', 'BR-086312', 46, 'Candida'), ('65-2826534', 'FL-534313', 38, 'Dukie'), ('07-1586110', 'NU-110314', 25, 'Cory'), ('43-9360368', 'SC-368315', 14, 'Alexina'), ('24-9658022', 'PO-022316', 5, 'Niki'), ('17-5320292', 'SA-292317', 47, 'Jarid'), ('76-1837887', 'GO-887318', 42, 'Nero'), ('63-6037963', 'PA-963319', 22, 'Armando'), ('47-7165292', 'BE-292320', 35, 'Issiah'), ('53-9112378', 'LA-378321', 11, 'Archy'), ('55-3120987', 'SO-987322', 48, 'Chandal'), ('07-1586110', 'SO-110323', 34, 'Cory'), ('71-3254362', 'SA-362324', 18, 'Kendell'), ('64-0617716', 'BE-716325', 43, 'Arnuad'), ('09-1806858', 'DO-858326', 36, 'Fields'), ('65-5980866', 'AP-866327', 9, 'Nichols'), ('63-2195367', 'MU-367328', 50, 'Lawry'), ('81-2473901', 'PA-901329', 22, 'Derry'), ('86-0682625', 'SO-625330', 20, 'Meredeth'), ('71-9117156', 'CL-156331', 12, 'Curt'), ('53-8190970', 'BR-970332', 46, 'Ollie'), ('99-3121195', 'PA-195333', 22, 'Nicol'), ('06-0250666', 'BE-666334', 15, 'Chlo'), ('95-1889655', 'TO-655335', 17, 'Morgan'), ('04-5028446', 'YU-446336', 3, 'Ara'), ('35-6168493', 'TO-493337', 17, 'Kimberlee'), ('85-5191098', 'CR-098338', 40, 'Karna'), ('77-6068524', 'PO-524339', 5, 'Irv'), ('13-5200094', 'CL-094340', 12, 'Bartholomeus'), ('73-0516228', 'LA-228341', 11, 'Berke'), ('23-9916079', 'CR-079342', 40, 'Fee'), ('98-4447637', 'CL-637343', 12, 'Binnie'), ('51-0816224', 'PA-224344', 22, 'Tatiania'), ('20-9638328', 'CH-328345', 7, 'Ophelie'), ('82-6932146', 'NU-146346', 25, 'Mattheus'), ('70-3529901', 'TA-901347', 39, 'Fonzie'), ('54-2976573', 'TO-573348', 17, 'Nydia'), ('09-1806858', 'SO-858349', 30, 'Fields'), ('70-2547086', 'LE-086350', 1, 'Candida'), ('84-5538463', 'BE-463351', 43, 'Shelley'), ('54-2250974', 'BR-974352', 13, 'Roobbie'), ('35-7764582', 'WI-582353', 8, 'Lenard'), ('59-0699977', 'BR-977354', 33, 'Lynsey'), ('56-1592693', 'WA-693355', 10, 'Elmer'), ('26-9722071', 'CO-071356', 4, 'Maurise'), ('81-2473901', 'TO-901357', 17, 'Derry'), ('83-8935137', 'PO-137358', 41, 'Alfy'), ('55-3120987', 'SA-987359', 18, 'Chandal'), ('36-1518293', 'PO-293360', 41, 'Baird'), ('35-6168493', 'EG-493361', 32, 'Kimberlee'), ('61-9065132', 'GA-132362', 49, 'Jolene'), ('05-3943900', 'PO-900363', 41, 'Adara'), ('71-9117156', 'TA-156364', 39, 'Curt'), ('52-2831500', 'BA-500365', 26, 'Sydney'), ('81-0880743', 'EG-743366', 32, 'Tirrell'), ('01-2142588', 'CR-588367', 40, 'Norry'), ('43-9360368', 'PA-368368', 22, 'Alexina'), ('05-3620546', 'CO-546369', 4, 'Keven'), ('99-3121195', 'SA-195370', 18, 'Nicol'), ('35-6168493', 'SA-493371', 18, 'Kimberlee'), ('81-9872672', 'BR-672372', 46, 'Freedman'), ('47-7165292', 'AP-292373', 9, 'Issiah'), ('10-8628886', 'SO-886374', 30, 'Janella'), ('65-0631406', 'AP-406375', 9, 'Nerissa'), ('65-5980866', 'BE-866376', 35, 'Nichols'), ('50-2384235', 'FL-235377', 38, 'Gaylene'), ('52-9467902', 'SA-902378', 47, 'Cindee'), ('21-6152815', 'WI-815379', 8, 'Vaughan'), ('45-5402640', 'LE-640380', 1, 'Boote'), ('92-2410555', 'PO-555381', 41, 'Wood'), ('44-5440869', 'WI-869382', 2, 'Filmore'), ('95-8377701', 'BE-701383', 35, 'Brier'), ('95-8377701', 'WI-701385', 8, 'Brier'), ('81-2473901', 'SO-901386', 20, 'Derry'), ('17-6216294', 'BE-294387', 35, 'Marlena'), ('24-5924162', 'SO-162388', 48, 'Megen'), ('83-8935137', 'PA-137389', 22, 'Alfy'), ('91-9041804', 'EG-804390', 32, 'Doug'), ('01-8253746', 'AP-746391', 9, 'Rae'), ('54-4445555', 'SO-555392', 30, 'Blane'), ('83-1847741', 'BE-741393', 35, 'Iormina'), ('47-1526424', 'SO-424394', 48, 'Dinah'), ('75-0128817', 'GA-817395', 49, 'Gillan'), ('71-9117156', 'FL-156396', 38, 'Curt'), ('48-3550663', 'SO-663397', 20, 'Ruthanne'), ('45-0963931', 'BR-931398', 46, 'Rebeka'), ('92-2410555', 'CO-555399', 4, 'Wood'), ('95-1889655', 'SO-655400', 20, 'Morgan'), ('81-2473901', 'AP-901401', 9, 'Derry'), ('70-8356718', 'YU-718402', 3, 'Carma'), ('50-2384235', 'PO-235403', 5, 'Gaylene'), ('54-2250974', 'YU-974404', 3, 'Roobbie'), ('48-3550663', 'MU-663405', 45, 'Ruthanne'), ('77-1193619', 'MU-619406', 50, 'Vinita'), ('26-9722071', 'DO-071407', 36, 'Maurise'), ('53-3228596', 'EG-596408', 32, 'Halimeda'), ('81-2473901', 'BL-901409', 21, 'Derry'), ('78-2287491', 'BL-491410', 21, 'Lin'), ('61-9065132', 'BU-132411', 29, 'Jolene'), ('44-2191126', 'SA-126412', 47, 'Caryl'), ('46-9130435', 'SO-435413', 48, 'Eimile'), ('95-7439683', 'CH-683414', 7, 'Bee'), ('27-5911718', 'GA-718415', 49, 'Demetre'), ('12-1425725', 'AP-725416', 9, 'Marillin'), ('07-1586110', 'PO-110417', 5, 'Cory'), ('29-5105605', 'CH-605418', 28, 'Biron'), ('24-5924162', 'BA-162419', 26, 'Megen'), ('76-7782679', 'PA-679420', 22, 'Crissy'), ('70-8356718', 'TR-718421', 19, 'Carma'), ('94-4023803', 'EG-803422', 32, 'Amil'), ('75-1282275', 'TA-275423', 39, 'Ira'), ('37-1214200', 'PA-200424', 22, 'Kaine'), ('54-2976573', 'NU-573425', 25, 'Nydia'), ('92-2410555', 'BE-555426', 43, 'Wood'), ('64-0617716', 'SA-716427', 47, 'Arnuad'), ('81-2373620', 'BE-620428', 15, 'Sacha'), ('56-5476801', 'BU-801429', 29, 'Ban'), ('04-1541244', 'FL-244430', 44, 'Townsend'), ('07-1586110', 'BE-110431', 15, 'Cory'), ('82-3741311', 'SC-311432', 14, 'Bancroft'), ('69-9694616', 'DO-616433', 36, 'Jocelin'), ('05-3943900', 'SA-900434', 47, 'Adara'), ('87-0239461', 'SO-461435', 30, 'Ogdon'), ('91-9041804', 'SO-804436', 20, 'Doug'), ('24-5924162', 'AP-162437', 9, 'Megen'), ('87-7670847', 'TR-847438', 19, 'Billi'), ('43-9360368', 'SO-368439', 48, 'Alexina'), ('35-7764582', 'EG-582440', 32, 'Lenard'), ('59-1426726', 'AP-726441', 23, 'Perice'), ('47-2165904', 'FL-904442', 38, 'Benjy'), ('75-5291978', 'CH-978443', 7, 'Clarita'), ('81-2523223', 'CR-223444', 40, 'Genny'), ('06-5585322', 'BE-322445', 35, 'Dag'), ('48-1071537', 'BU-537446', 29, 'Fidelia'), ('37-3851032', 'BR-032447', 13, 'Roanna'), ('07-1586110', 'CO-110448', 4, 'Cory'), ('05-3943900', 'SC-900449', 14, 'Adara'), ('43-9360368', 'PA-368450', 22, 'Alexina'), ('64-0617716', 'CO-716451', 4, 'Arnuad'), ('06-6577274', 'SO-274453', 30, 'Eldon'), ('49-6177176', 'WI-176454', 2, 'Verile'), ('98-4447637', 'WI-637455', 16, 'Binnie'), ('81-2373620', 'CL-620456', 12, 'Sacha'), ('82-0775056', 'WI-056457', 16, 'Brandice'), ('83-5505067', 'GA-067458', 49, 'Mina'), ('90-3317893', 'SO-893459', 20, 'Karina'), ('88-6668315', 'GO-315460', 42, 'Maritsa'), ('45-1774011', 'PO-011461', 41, 'Zahara'), ('71-9835103', 'BA-103462', 26, 'Inglebert'), ('04-8079805', 'PO-805463', 41, 'Annamarie'), ('65-0631406', 'SO-406464', 20, 'Nerissa'), ('97-5167337', 'FL-337465', 44, 'Hashim'), ('21-6152815', 'BU-815466', 29, 'Vaughan'), ('80-0248416', 'SO-416467', 48, 'Maggi'), ('43-9360368', 'BE-368468', 15, 'Alexina'), ('66-3453116', 'YU-116469', 3, 'Alfie'), ('95-8377701', 'BE-701470', 43, 'Brier'), ('26-9722071', 'LA-071471', 11, 'Maurise'), ('01-2142588', 'SA-588472', 18, 'Norry'), ('36-0141660', 'PO-660473', 41, 'Edvard'), ('46-9130435', 'CO-435474', 4, 'Eimile'), ('52-9158705', 'AP-705475', 23, 'Wilhelmine'), ('29-6204400', 'CO-400476', 4, 'Pacorro'), ('70-3529901', 'PA-901477', 22, 'Fonzie'), ('96-1144518', 'LE-518478', 1, 'Octavia'), ('22-0151541', 'GO-541479', 42, 'Frankie'), ('41-4320599', 'TO-599480', 17, 'Coop'), ('48-1071537', 'CH-537481', 28, 'Fidelia'), ('58-0821084', 'SC-084482', 14, 'Waiter'), ('20-9638328', 'NU-328483', 25, 'Ophelie'), ('54-4445555', 'BE-555484', 27, 'Blane'), ('44-5440869', 'CO-869485', 4, 'Filmore'), ('05-3943900', 'CH-900486', 28, 'Adara'), ('06-5585322', 'SO-322487', 34, 'Dag'), ('95-7439683', 'SA-683488', 18, 'Bee'), ('12-8305766', 'WI-766489', 16, 'Antonino'), ('29-5105605', 'CH-605490', 6, 'Biron'), ('95-8377701', 'SA-701491', 47, 'Brier'), ('78-2287491', 'BR-491492', 46, 'Lin'), ('92-6909748', 'GO-748493', 42, 'Peterus'), ('17-5320292', 'DO-292494', 36, 'Jarid'), ('48-5969908', 'FL-908495', 38, 'Genni'), ('56-5476801', 'LE-801496', 1, 'Ban'), ('30-1734975', 'SO-975497', 48, 'Gian'), ('17-5320292', 'TR-292498', 19, 'Jarid'), ('64-0617716', 'MU-716499', 50, 'Arnuad'), ('77-5001301', 'BU-301500', 29, 'Markos'), ('92-2410555', 'BE-555501', 15, 'Wood'), ('83-5505067', 'SO-067502', 30, 'Mina'), ('27-5911718', 'BA-718503', 26, 'Demetre'), ('23-9916079', 'SA-079504', 47, 'Fee'), ('83-5505067', 'CL-067505', 12, 'Mina'), ('92-4077185', 'BR-185506', 33, 'Eolanda'), ('97-4531198', 'FL-198507', 38, 'Harriette'), ('29-5105605', 'SO-605508', 48, 'Biron'), ('04-5028446', 'SA-446509', 18, 'Ara'), ('71-3254362', 'WA-362510', 10, 'Kendell'), ('17-6216294', 'BR-294511', 46, 'Marlena'), ('01-8308618', 'YU-618512', 3, 'Hendrick'), ('82-2659846', 'BE-846513', 35, 'Delcina'), ('26-9722071', 'BL-071514', 21, 'Maurise'), ('26-4353798', 'PO-798515', 41, 'Shirley'), ('35-7764582', 'BE-582516', 35, 'Lenard'), ('50-2384235', 'BA-235517', 26, 'Gaylene'), ('66-9721872', 'TR-872518', 19, 'Lilli'), ('65-2826534', 'LE-534519', 1, 'Dukie'), ('28-6821581', 'SO-581520', 20, 'Carlye'), ('29-4774230', 'SA-230521', 47, 'Mord'), ('73-9037903', 'DO-903522', 36, 'Michele'), ('74-3497473', 'MU-473523', 45, 'Hyacinthia'), ('70-3529901', 'PO-901525', 41, 'Fonzie'), ('49-6177176', 'BU-176526', 31, 'Verile'), ('28-6821581', 'BE-581527', 15, 'Carlye'), ('05-3943900', 'WI-900528', 2, 'Adara'), ('70-2547086', 'SA-086529', 47, 'Candida'), ('89-9708969', 'TA-969530', 39, 'Dniren'), ('54-4391089', 'SC-089531', 14, 'Queenie'), ('97-5167337', 'TR-337533', 19, 'Hashim'), ('73-0516228', 'AP-228534', 9, 'Berke'), ('81-0880743', 'BE-743535', 27, 'Tirrell'), ('71-3254362', 'YO-362536', 24, 'Kendell'), ('70-2547086', 'AP-086537', 9, 'Candida'), ('82-2038264', 'FO-264538', 37, 'Zorah'), ('47-7165292', 'BA-292539', 26, 'Issiah'), ('82-0775056', 'WI-056540', 2, 'Brandice'), ('23-9916079', 'BR-079541', 13, 'Fee'), ('24-5924162', 'WI-162542', 2, 'Megen'), ('74-3497473', 'BU-473543', 31, 'Hyacinthia'), ('68-1791829', 'CH-829544', 7, 'Sarajane'), ('37-3851032', 'PO-032545', 41, 'Roanna'), ('43-9973385', 'BE-385546', 15, 'Hubert'), ('48-4503915', 'BE-915547', 27, 'Essa'), ('36-1518293', 'CH-293548', 28, 'Baird'), ('28-6821581', 'SO-581549', 34, 'Carlye'), ('98-4447637', 'TO-637550', 17, 'Binnie'), ('70-3529901', 'BL-901551', 21, 'Fonzie'), ('64-0900623', 'PA-623552', 22, 'Franky'), ('98-4053450', 'SO-450553', 48, 'Ivonne'), ('65-2826534', 'GO-534554', 42, 'Dukie'), ('52-9158705', 'CH-705555', 6, 'Wilhelmine'), ('59-7953063', 'CH-063556', 28, 'Dillon'), ('65-2826534', 'SA-534557', 47, 'Dukie'), ('83-1847741', 'CH-741558', 7, 'Iormina'), ('92-4077185', 'FO-185559', 37, 'Eolanda'), ('45-1774011', 'DO-011560', 36, 'Zahara'), ('78-2287491', 'SO-491561', 20, 'Lin'), ('37-3851032', 'LA-032562', 11, 'Roanna'), ('70-2547086', 'BU-086563', 29, 'Candida'), ('92-6909748', 'PO-748564', 41, 'Peterus'), ('12-8305766', 'BR-766565', 13, 'Antonino'), ('97-4531198', 'CL-198566', 12, 'Harriette'), ('01-2142588', 'FL-588567', 44, 'Norry'), ('65-2826534', 'EG-534568', 32, 'Dukie'), ('63-0848328', 'BE-328569', 35, 'Sax'), ('93-2586302', 'PA-302570', 22, 'Anissa'), ('43-9778120', 'TR-120571', 19, 'Auberta'), ('92-4077185', 'DO-185572', 36, 'Eolanda'), ('46-0610152', 'GA-152573', 49, 'Christabel'), ('97-4531198', 'CL-198574', 12, 'Harriette'), ('98-8931780', 'FL-780575', 44, 'Scottie'), ('27-3506017', 'CR-017576', 40, 'Anne'), ('93-4123833', 'SO-833577', 30, 'Simone'), ('98-4053450', 'BE-450578', 27, 'Ivonne'), ('53-3228596', 'FL-596579', 44, 'Halimeda'), ('37-1214200', 'CO-200580', 4, 'Kaine'), ('48-3550663', 'SO-663581', 20, 'Ruthanne'), ('70-2547086', 'CL-086582', 12, 'Candida'), ('06-6577274', 'CH-274583', 7, 'Eldon'), ('62-6749434', 'PO-434584', 5, 'Rivalee'), ('12-1425725', 'BU-725585', 31, 'Marillin'), ('71-1747513', 'BA-513586', 26, 'Abel'), ('86-0682625', 'PO-625587', 41, 'Meredeth'), ('65-5980866', 'SA-866588', 47, 'Nichols'), ('37-1214200', 'WI-200589', 8, 'Kaine'), ('04-1541244', 'MU-244590', 45, 'Townsend'), ('87-7670847', 'LE-847591', 1, 'Billi'), ('44-2191126', 'GO-126592', 42, 'Caryl'), ('70-2547086', 'PO-086593', 5, 'Candida'), ('92-4252759', 'PO-759594', 5, 'Dennis'), ('35-6168493', 'CH-493595', 7, 'Kimberlee'), ('97-5167337', 'SO-337596', 30, 'Hashim'), ('22-0151541', 'CH-541597', 6, 'Frankie'), ('35-6168493', 'FL-493598', 38, 'Kimberlee'), ('88-6713945', 'SO-945599', 34, 'Nicolas'), ('11-0239033', 'YO-033600', 24, 'Marty'), ('97-7565956', 'SC-956601', 14, 'Carole'), ('82-6932146', 'FL-146602', 38, 'Mattheus'), ('77-1237742', 'WA-742603', 10, 'Rachel'), ('25-4858158', 'MU-158604', 45, 'Carrissa'), ('51-0816224', 'SO-224605', 34, 'Tatiania'), ('71-9835103', 'CH-103606', 28, 'Inglebert'), ('38-7383034', 'WI-034607', 16, 'Thurstan'), ('84-7638314', 'LA-314608', 11, 'Kurtis'), ('01-8308618', 'PA-618609', 22, 'Hendrick'), ('35-2273644', 'PO-644610', 41, 'Cacilia'), ('65-2527130', 'PO-130611', 5, 'Rhianna'), ('37-1214200', 'DO-200612', 36, 'Kaine'), ('46-9130435', 'GA-435613', 49, 'Eimile'), ('82-6932146', 'SO-146614', 48, 'Mattheus'), ('46-0610152', 'NU-152615', 25, 'Christabel'), ('83-7545489', 'SO-489616', 34, 'Weidar'), ('46-9130435', 'WI-435617', 16, 'Eimile'), ('88-6668315', 'YO-315618', 24, 'Maritsa'), ('58-7506795', 'GO-795619', 42, 'Paule'), ('65-9362561', 'FL-561620', 38, 'Erika'), ('82-2659846', 'SO-846621', 20, 'Delcina'), ('82-2659846', 'GA-846622', 49, 'Delcina'), ('73-5563650', 'SO-650623', 48, 'Northrup'), ('90-3317893', 'BE-893624', 43, 'Karina'), ('78-2287491', 'DO-491625', 36, 'Lin'), ('26-4353798', 'CR-798626', 40, 'Shirley'), ('90-3317893', 'WA-893627', 10, 'Karina'), ('45-5402640', 'PO-640628', 41, 'Boote'), ('84-3454684', 'SO-684629', 48, 'Beth'), ('29-4774230', 'PO-230630', 41, 'Mord'), ('29-5105605', 'SC-605631', 14, 'Biron'), ('82-3741311', 'SO-311632', 30, 'Bancroft'), ('67-4333755', 'PO-755634', 5, 'Brockie'), ('67-4333755', 'YU-755635', 3, 'Brockie'), ('95-7776788', 'SA-788636', 47, 'Drew'), ('29-2214287', 'WA-287637', 10, 'Denys'), ('81-2473901', 'PO-901638', 5, 'Derry'), ('91-9041804', 'YO-804639', 24, 'Doug'), ('89-3139575', 'BE-575640', 43, 'Hansiain'), ('70-8356718', 'LE-718641', 1, 'Carma'), ('48-5969908', 'TA-908642', 39, 'Genni'), ('09-3480982', 'BE-982643', 15, 'Ogdon'), ('07-9731218', 'PO-218644', 41, 'Chickie'), ('64-0900623', 'FL-623645', 44, 'Franky'), ('86-0682625', 'BE-625646', 43, 'Meredeth'), ('24-9658022', 'SC-022647', 14, 'Niki'), ('76-1837887', 'BR-887648', 13, 'Nero'), ('81-2373620', 'GA-620649', 49, 'Sacha'), ('53-8190970', 'CL-970650', 12, 'Ollie'), ('89-3139575', 'TA-575651', 39, 'Hansiain'), ('94-7756469', 'WI-469652', 2, 'Erek'), ('83-7545489', 'AP-489653', 9, 'Weidar'), ('74-3497473', 'BU-473654', 29, 'Hyacinthia'), ('97-5167337', 'TO-337655', 17, 'Hashim'), ('43-9778120', 'BE-120656', 15, 'Auberta'), ('63-0848328', 'SC-328657', 14, 'Sax'), ('82-2659846', 'BU-846658', 31, 'Delcina'), ('12-8305766', 'AP-766659', 9, 'Antonino'), ('54-4445555', 'FO-555660', 37, 'Blane'), ('25-4858158', 'PO-158661', 5, 'Carrissa'), ('10-5399586', 'BR-586662', 13, 'Clerkclaude'), ('84-1482139', 'CH-139663', 6, 'Guglielmo'), ('98-8931780', 'SO-780664', 48, 'Scottie'), ('89-3139575', 'SA-575665', 47, 'Hansiain'), ('97-4666853', 'FL-853666', 44, 'Margie'), ('81-2373620', 'TR-620667', 19, 'Sacha'), ('58-0821084', 'WI-084668', 16, 'Waiter'), ('54-4445555', 'CR-555669', 40, 'Blane'), ('05-3943900', 'PO-900671', 41, 'Adara'), ('04-8079805', 'DO-805672', 36, 'Annamarie'), ('99-3121195', 'LA-195673', 11, 'Nicol'), ('48-1071537', 'YO-537674', 24, 'Fidelia'), ('66-9721872', 'YO-872675', 24, 'Lilli'), ('48-3550663', 'BR-663676', 13, 'Ruthanne'), ('95-7776788', 'BU-788677', 31, 'Drew'), ('37-3851032', 'MU-032678', 50, 'Roanna'), ('81-2523223', 'TR-223679', 19, 'Genny'), ('54-4391089', 'GA-089680', 49, 'Queenie'), ('83-8476025', 'SA-025681', 47, 'Daune'), ('45-6626902', 'BE-902682', 15, 'Leonhard'), ('87-0239461', 'BE-461683', 27, 'Ogdon'), ('25-4858158', 'AP-158684', 23, 'Carrissa'), ('35-7764582', 'WI-582685', 2, 'Lenard'), ('57-4746873', 'MU-873686', 50, 'Joseph'), ('56-1592693', 'CH-693687', 6, 'Elmer'), ('91-8154210', 'BR-210688', 13, 'Caryn'), ('97-4531198', 'CR-198689', 40, 'Harriette'), ('73-9037903', 'SO-903690', 30, 'Michele'), ('97-3641607', 'CO-607691', 4, 'Morse'), ('92-2410555', 'BR-555692', 13, 'Wood'), ('55-6368102', 'WI-102693', 16, 'Worden'), ('83-8476025', 'WI-025694', 2, 'Daune'), ('01-8253746', 'WA-746695', 10, 'Rae'), ('75-1282275', 'TR-275696', 19, 'Ira'), ('77-2872362', 'CH-362697', 28, 'Kennedy'), ('81-0880743', 'SO-743698', 20, 'Tirrell'), ('92-6909748', 'SA-748699', 18, 'Peterus'), ('83-4499747', 'MU-747700', 45, 'Alisun'), ('45-0963931', 'TA-931701', 39, 'Rebeka'), ('97-4666853', 'SA-853702', 18, 'Margie'), ('93-2586302', 'SC-302703', 14, 'Anissa'), ('97-4531198', 'PO-198704', 5, 'Harriette'), ('76-7782679', 'BR-679705', 33, 'Crissy'), ('65-7613902', 'PO-902706', 41, 'Babs'), ('69-9694616', 'PA-616707', 22, 'Jocelin'), ('07-9731218', 'AP-218708', 9, 'Chickie'), ('66-9244966', 'SO-966709', 48, 'Daffy'), ('12-1688572', 'LA-572710', 11, 'Stanley'), ('27-5911718', 'SA-718711', 18, 'Demetre'), ('82-2659846', 'FL-846712', 44, 'Delcina'), ('45-6626902', 'MU-902713', 50, 'Leonhard'), ('91-9543815', 'BR-815714', 13, 'Agnola'), ('24-9658022', 'BR-022715', 33, 'Niki'), ('07-9731218', 'BU-218716', 31, 'Chickie'), ('95-7439683', 'CH-683717', 6, 'Bee'), ('85-5191098', 'BE-098718', 15, 'Karna'), ('98-4447637', 'SO-637719', 48, 'Binnie'), ('01-8253746', 'SO-746720', 20, 'Rae'), ('27-5911718', 'GO-718721', 42, 'Demetre'), ('89-9708969', 'SO-969722', 30, 'Dniren'), ('07-7130378', 'SO-378723', 48, 'Mella'), ('28-6821581', 'WA-581724', 10, 'Carlye'), ('88-6075278', 'CH-278725', 7, 'Nananne'), ('48-3550663', 'DO-663726', 36, 'Ruthanne'), ('17-5320292', 'BR-292727', 33, 'Jarid'), ('98-8931780', 'BU-780728', 29, 'Scottie'), ('98-8931780', 'CL-780729', 12, 'Scottie'), ('71-9117156', 'AP-156730', 9, 'Curt'), ('81-2473901', 'SC-901732', 14, 'Derry'), ('87-7670847', 'SO-847733', 34, 'Billi'), ('27-3506017', 'MU-017734', 50, 'Anne'), ('65-2527130', 'EG-130735', 32, 'Rhianna'), ('95-6622021', 'BE-021736', 27, 'Davida'), ('70-2547086', 'BR-086737', 13, 'Candida'), ('52-9158705', 'WI-705738', 16, 'Wilhelmine'), ('99-3121195', 'YO-195739', 24, 'Nicol'), ('47-2165904', 'BE-904740', 27, 'Benjy'), ('84-5538463', 'YU-463741', 3, 'Shelley'), ('97-4666853', 'BE-853742', 27, 'Margie'), ('95-7776788', 'SO-788743', 20, 'Drew'), ('52-9467902', 'LE-902744', 1, 'Cindee'), ('53-9112378', 'CH-378745', 7, 'Archy'), ('83-5505067', 'BR-067746', 13, 'Mina'), ('01-2142588', 'BU-588747', 29, 'Norry'), ('48-5969908', 'SO-908748', 48, 'Genni'), ('50-2384235', 'AP-235749', 9, 'Gaylene'), ('97-7565956', 'BU-956750', 29, 'Carole'), ('97-4531198', 'WI-198751', 16, 'Harriette'), ('87-7670847', 'SC-847752', 14, 'Billi'), ('81-0687872', 'SC-872753', 14, 'Sibley'), ('75-5291978', 'GO-978754', 42, 'Clarita'), ('77-1237742', 'BU-742755', 31, 'Rachel'), ('83-5505067', 'NU-067756', 25, 'Mina'), ('11-0239033', 'TO-033757', 17, 'Marty'), ('65-9362561', 'SO-561758', 34, 'Erika'), ('77-1193619', 'BL-619759', 21, 'Vinita'), ('27-5911718', 'CH-718760', 28, 'Demetre'), ('83-5505067', 'TO-067761', 17, 'Mina'), ('78-5406936', 'TO-936762', 17, 'Arturo'), ('35-4159713', 'SO-713763', 30, 'Bethina'), ('04-1541244', 'CO-244764', 4, 'Townsend'), ('45-5402640', 'DO-640765', 36, 'Boote'), ('82-3741311', 'CL-311766', 12, 'Bancroft'), ('38-7383034', 'PA-034767', 22, 'Thurstan'), ('70-0400720', 'SO-720768', 30, 'Giustino'), ('77-5001301', 'DO-301769', 36, 'Markos'), ('98-4053450', 'MU-450770', 50, 'Ivonne'), ('28-4200925', 'MU-925771', 50, 'Lilllie'), ('97-9333104', 'CH-104772', 6, 'Michal'), ('85-5191098', 'SO-098773', 30, 'Karna'), ('23-9916079', 'PA-079774', 22, 'Fee'), ('98-4447637', 'YO-637775', 24, 'Binnie'), ('67-5731378', 'SA-378776', 18, 'Burty'), ('94-4023803', 'CH-803777', 7, 'Amil'), ('77-1193619', 'WI-619778', 16, 'Vinita'), ('63-2195367', 'PO-367779', 5, 'Lawry'), ('47-1526424', 'PA-424780', 22, 'Dinah'), ('89-2151209', 'MU-209781', 45, 'Haven'), ('52-9467902', 'TA-902782', 39, 'Cindee'), ('71-9117156', 'YO-156783', 24, 'Curt'), ('76-7782679', 'BR-679784', 13, 'Crissy'), ('71-9117156', 'FL-156785', 38, 'Curt'), ('45-5402640', 'BE-640786', 35, 'Boote'), ('93-4123833', 'TA-833787', 39, 'Simone'), ('91-7844451', 'SO-451788', 20, 'Kailey'), ('63-2195367', 'BU-367789', 29, 'Lawry'), ('75-1282275', 'FO-275790', 37, 'Ira'), ('80-9376212', 'SO-212791', 34, 'Fin'), ('81-0880743', 'TA-743792', 39, 'Tirrell'), ('58-0821084', 'SA-084793', 47, 'Waiter'), ('12-8305766', 'BE-766794', 35, 'Antonino'), ('97-7565956', 'WA-956795', 10, 'Carole'), ('38-7383034', 'BE-034796', 43, 'Thurstan'), ('26-9722071', 'SA-071797', 47, 'Maurise'), ('62-6749434', 'PO-434798', 41, 'Rivalee'), ('82-2659846', 'WI-846799', 16, 'Delcina'), ('88-6361439', 'CL-439800', 12, 'Mar'), ('29-6204400', 'CR-400801', 40, 'Pacorro'), ('65-0631406', 'SA-406802', 18, 'Nerissa'), ('84-3454684', 'EG-684803', 32, 'Beth'), ('67-5731378', 'GA-378804', 49, 'Burty'), ('12-1425725', 'BA-725805', 26, 'Marillin'), ('91-9543815', 'BU-815806', 31, 'Agnola'), ('99-2126146', 'CO-146807', 4, 'Huntley'), ('75-1282275', 'NU-275808', 25, 'Ira'), ('28-4200925', 'NU-925809', 25, 'Lilllie'), ('29-5105605', 'BE-605810', 15, 'Biron'), ('54-4391089', 'SA-089811', 47, 'Queenie'), ('13-5366659', 'FO-659812', 37, 'Cherry'), ('75-2310967', 'PA-967813', 22, 'Georgeta'), ('01-3493815', 'AP-815814', 9, 'Hagan'), ('88-6668315', 'BU-315815', 29, 'Maritsa'), ('70-8356718', 'TR-718816', 19, 'Carma'), ('37-3851032', 'FO-032817', 37, 'Roanna'), ('45-2700838', 'BE-838818', 35, 'Florenza'), ('66-3277371', 'FL-371819', 38, 'Carlita'), ('53-3228596', 'PO-596820', 41, 'Halimeda'), ('01-8253746', 'YU-746821', 3, 'Rae'), ('37-3851032', 'WI-032822', 2, 'Roanna'), ('87-7670847', 'CH-847823', 6, 'Billi'), ('26-4353798', 'SO-798824', 30, 'Shirley'), ('67-4333755', 'BE-755825', 35, 'Brockie'), ('75-2310967', 'TR-967826', 19, 'Georgeta'), ('41-0312488', 'BE-488827', 35, 'Douglas'), ('83-1847741', 'BE-741828', 35, 'Iormina'), ('77-1237742', 'GO-742829', 42, 'Rachel'), ('71-1747513', 'TR-513830', 19, 'Abel'), ('69-9694616', 'CO-616831', 4, 'Jocelin'), ('11-2634892', 'MU-892832', 50, 'Win'), ('36-0731954', 'FO-954833', 37, 'Patrick'), ('53-9112378', 'WI-378834', 8, 'Archy'), ('89-3139575', 'SO-575835', 30, 'Hansiain'), ('80-0912894', 'BR-894836', 33, 'Zita'), ('65-2826534', 'CR-534837', 40, 'Dukie'), ('91-7844451', 'FL-451838', 44, 'Kailey'), ('81-2523223', 'LA-223839', 11, 'Genny'), ('31-8914415', 'WI-415840', 2, 'Sutherland'), ('45-6626902', 'FO-902841', 37, 'Leonhard'), ('97-7565956', 'TA-956842', 39, 'Carole'), ('18-1558041', 'SO-041843', 34, 'Rhea'), ('29-5105605', 'NU-605844', 25, 'Biron'), ('98-4447637', 'BR-637845', 46, 'Binnie'), ('97-5167337', 'EG-337846', 32, 'Hashim'), ('66-3277371', 'SA-371847', 18, 'Carlita'), ('75-5291978', 'BR-978848', 33, 'Clarita'), ('81-2373620', 'BE-620849', 43, 'Sacha'), ('46-9130435', 'NU-435850', 25, 'Eimile'), ('83-8935137', 'SC-137851', 14, 'Alfy'), ('51-4454770', 'PO-770852', 5, 'Dermot'), ('81-0880743', 'BR-743853', 13, 'Tirrell'), ('67-5731378', 'SC-378855', 14, 'Burty'), ('75-1282275', 'SO-275856', 48, 'Ira'), ('46-9130435', 'MU-435857', 45, 'Eimile'), ('84-5538463', 'PO-463858', 5, 'Shelley'), ('53-8190970', 'WI-970859', 8, 'Ollie'), ('17-6403999', 'SO-999860', 34, 'Thatcher'), ('48-4503915', 'SO-915861', 34, 'Essa'), ('46-0610152', 'BR-152862', 46, 'Christabel'), ('65-2527130', 'DO-130863', 36, 'Rhianna'), ('81-2473901', 'CO-901864', 4, 'Derry'), ('10-8628886', 'TA-886865', 39, 'Janella'), ('17-6216294', 'GA-294866', 49, 'Marlena'), ('23-9916079', 'CH-079867', 7, 'Fee'), ('97-4531198', 'AP-198868', 9, 'Harriette'), ('54-4391089', 'WI-089869', 16, 'Queenie'), ('82-6932146', 'BU-146870', 29, 'Mattheus'), ('98-4447637', 'CH-637871', 6, 'Binnie'), ('93-4123833', 'CR-833872', 40, 'Simone'), ('66-3277371', 'CH-371873', 7, 'Carlita'), ('17-5320292', 'SO-292874', 48, 'Jarid'), ('42-5958071', 'BR-071875', 46, 'Phelia'), ('91-9041804', 'SA-804876', 47, 'Doug'), ('91-7844451', 'YO-451877', 24, 'Kailey'), ('62-6749434', 'SA-434878', 18, 'Rivalee'), ('17-6403999', 'CH-999879', 6, 'Thatcher'), ('97-7565956', 'BR-956880', 13, 'Carole'), ('83-1847741', 'NU-741881', 25, 'Iormina'), ('93-4123833', 'WI-833882', 16, 'Simone'), ('71-1747513', 'MU-513883', 45, 'Abel'), ('73-5563650', 'FO-650884', 37, 'Northrup'), ('17-6403999', 'LE-999885', 1, 'Thatcher'), ('84-3454684', 'GA-684886', 49, 'Beth'), ('94-4023803', 'TR-803887', 19, 'Amil'), ('75-0128817', 'BE-817888', 15, 'Gillan'), ('96-1144518', 'SO-518889', 20, 'Octavia'), ('44-5440869', 'NU-869890', 25, 'Filmore'), ('89-3139575', 'WA-575891', 10, 'Hansiain'), ('59-1426726', 'BE-726892', 43, 'Perice'), ('65-9362561', 'SC-561893', 14, 'Erika'), ('88-6668315', 'BU-315894', 29, 'Maritsa'), ('95-7776788', 'TA-788895', 39, 'Drew'), ('93-4123833', 'LE-833896', 1, 'Simone'), ('47-1526424', 'EG-424897', 32, 'Dinah'), ('01-2142588', 'MU-588898', 45, 'Norry'), ('48-5969908', 'GO-908899', 42, 'Genni'), ('01-3493815', 'WI-815900', 2, 'Hagan'), ('82-0775056', 'SO-056901', 34, 'Brandice'), ('63-6037963', 'WI-963902', 16, 'Armando'), ('70-5847756', 'SA-756903', 47, 'Ravid'), ('81-0687872', 'NU-872904', 25, 'Sibley'), ('24-9658022', 'SO-022905', 30, 'Niki'), ('65-2527130', 'SA-130906', 18, 'Rhianna'), ('28-6821581', 'BE-581907', 27, 'Carlye'), ('54-7080216', 'WI-216908', 8, 'Marve'), ('43-9973385', 'WI-385909', 8, 'Hubert'), ('01-8253746', 'SA-746910', 18, 'Rae'), ('75-2310967', 'YO-967911', 24, 'Georgeta'), ('83-4499747', 'BA-747912', 26, 'Alisun'), ('54-4445555', 'MU-555913', 45, 'Blane'), ('58-3274439', 'SO-439914', 48, 'Douglas'), ('91-9041804', 'BE-804915', 35, 'Doug'), ('81-9872672', 'WA-672916', 10, 'Freedman'), ('69-9694616', 'CO-616917', 4, 'Jocelin'), ('44-2191126', 'BR-126918', 46, 'Caryl'), ('51-0816224', 'PA-224919', 22, 'Tatiania'), ('65-7613902', 'FL-902920', 44, 'Babs'), ('69-9075747', 'AP-747921', 23, 'Emma'), ('83-5505067', 'SA-067922', 18, 'Mina'), ('56-5476801', 'TR-801923', 19, 'Ban'), ('65-2527130', 'MU-130924', 50, 'Rhianna'), ('11-0239033', 'BU-033925', 31, 'Marty'), ('91-9543815', 'SO-815926', 48, 'Agnola'), ('04-1541244', 'AP-244927', 23, 'Townsend'), ('71-9117156', 'PA-156928', 22, 'Curt'), ('53-0785582', 'GA-582929', 49, 'Letta'), ('28-4200925', 'EG-925930', 32, 'Lilllie'), ('54-1251243', 'WI-243931', 2, 'Saunder'), ('77-1237742', 'YO-742932', 24, 'Rachel'), ('81-9872672', 'AP-672933', 23, 'Freedman'), ('63-2195367', 'BU-367934', 29, 'Lawry'), ('71-9117156', 'BU-156935', 29, 'Curt'), ('43-9778120', 'TA-120936', 39, 'Auberta'), ('36-0731954', 'CR-954937', 40, 'Patrick'), ('26-4353798', 'NU-798938', 25, 'Shirley'), ('47-7165292', 'SC-292939', 14, 'Issiah'), ('51-4454770', 'YU-770940', 3, 'Dermot'), ('54-7080216', 'NU-216941', 25, 'Marve'), ('66-3453116', 'CH-116942', 7, 'Alfie'), ('05-3620546', 'WA-546943', 10, 'Keven'), ('43-9360368', 'BU-368944', 31, 'Alexina'), ('41-0312488', 'BE-488945', 27, 'Douglas'), ('83-4499747', 'WI-747946', 8, 'Alisun'), ('96-1144518', 'LE-518947', 1, 'Octavia'), ('82-2659846', 'FO-846948', 37, 'Delcina'), ('35-6168493', 'BR-493949', 13, 'Kimberlee'), ('70-0400720', 'SC-720950', 14, 'Giustino'), ('59-0699977', 'SC-977951', 14, 'Lynsey'), ('58-0821084', 'BR-084952', 13, 'Waiter'), ('42-5958071', 'BE-071953', 15, 'Phelia'), ('53-0785582', 'SA-582954', 18, 'Letta'), ('83-8476025', 'TA-025955', 39, 'Daune'), ('98-4447637', 'LA-637956', 11, 'Binnie'), ('47-1526424', 'MU-424957', 50, 'Dinah'), ('31-2519268', 'FL-268958', 38, 'Marlo'), ('46-2459675', 'MU-675959', 50, 'Kelby'), ('71-3254362', 'WA-362960', 10, 'Kendell'), ('61-9065132', 'BR-132961', 13, 'Jolene'), ('80-0912894', 'TO-894962', 17, 'Zita'), ('81-0687872', 'BR-872963', 13, 'Sibley'), ('84-3454684', 'CH-684964', 6, 'Beth'), ('75-0128817', 'CH-817965', 6, 'Gillan'), ('63-6037963', 'YU-963966', 3, 'Armando'), ('43-9360368', 'CL-368967', 12, 'Alexina'), ('49-6177176', 'WI-176968', 8, 'Verile'), ('58-7506795', 'CO-795969', 4, 'Paule'), ('26-9722071', 'SC-071970', 14, 'Maurise'), ('12-8305766', 'WI-766971', 16, 'Antonino'), ('35-6168493', 'CH-493972', 6, 'Kimberlee'), ('90-3317893', 'CH-893973', 6, 'Karina'), ('53-0785582', 'BE-582974', 35, 'Letta'), ('84-1482139', 'GA-139975', 49, 'Guglielmo'), ('79-9908920', 'BR-920976', 46, 'Currey'), ('35-9078186', 'TO-186977', 17, 'Jenni'), ('95-8319097', 'MU-097978', 45, 'Julee'), ('29-2214287', 'BU-287979', 31, 'Denys'), ('80-9376212', 'SO-212980', 48, 'Fin'), ('88-6713945', 'YU-945981', 3, 'Nicolas'), ('90-3317893', 'PO-893982', 41, 'Karina'), ('54-4445555', 'TR-555983', 19, 'Blane'), ('52-9467902', 'TO-902984', 17, 'Cindee'), ('98-4447637', 'FL-637985', 38, 'Binnie'), ('04-1541244', 'BR-244986', 46, 'Townsend'), ('43-9360368', 'WA-368987', 10, 'Alexina'), ('95-7439683', 'FL-683988', 38, 'Bee'), ('64-0900623', 'CO-623989', 4, 'Franky'), ('77-1237742', 'SO-742990', 34, 'Rachel'), ('89-9708969', 'FL-969991', 44, 'Dniren'), ('51-4454770', 'PA-770992', 22, 'Dermot'), ('61-9065132', 'LA-132993', 11, 'Jolene'), ('18-1558041', 'CH-041994', 7, 'Rhea'), ('77-5001301', 'BL-301995', 21, 'Markos'), ('97-9333104', 'SA-104996', 18, 'Michal'), ('65-0631406', 'BR-406997', 13, 'Nerissa'), ('37-9440365', 'YO-365998', 24, 'Venita'), ('50-2384235', 'BE-235999', 43, 'Gaylene'), ('47-2165904', 'FL-9041000', 38, 'Benjy')]\n"
     ]
    }
   ],
   "source": [
    "# Inner join example query \n",
    "cur2.execute(\"SELECT c.customer_id, ot.order_id, ot.product_id, c.first_name FROM customer as c INNER JOIN order_table as ot ON ot.customer_id WHERE c.customer_id=ot.customer_id;\")\n",
    "\n",
    "results=cur2.fetchall()\n",
    "\n",
    "print(results)"
   ]
  },
  {
   "cell_type": "code",
   "execution_count": null,
   "metadata": {
    "collapsed": true
   },
   "outputs": [],
   "source": [
    "# Drop table query\n",
    "# cur2.execute(\"DROP TABLE product\")"
   ]
  },
  {
   "cell_type": "code",
   "execution_count": 20,
   "metadata": {},
   "outputs": [
    {
     "data": {
      "text/plain": [
       "<sqlite3.Cursor at 0x19013281810>"
      ]
     },
     "execution_count": 20,
     "metadata": {},
     "output_type": "execute_result"
    }
   ],
   "source": [
    "# Switching the foreign key constraints rule on to enforce referential integrity\n",
    "cur2.execute('''PRAGMA foreign_keys=ON''')"
   ]
  },
  {
   "cell_type": "code",
   "execution_count": 21,
   "metadata": {},
   "outputs": [
    {
     "name": "stdout",
     "output_type": "stream",
     "text": [
      "[('37-5426750', 'Tyne', 'de Najera', 'tdenajera0@berkeley.edu', 'Female', 'Young America', 'Minnesota'), ('39-3501973', 'Latrena', 'Baake', 'lbaake1@wiley.com', 'Female', 'Topeka', 'Kansas'), ('95-1806040', 'Cynthy', 'Bloor', 'cbloor2@photobucket.com', 'Female', 'Oklahoma City', 'Oklahoma'), ('89-9864273', 'Blondy', 'Huncoot', 'bhuncoot3@mtv.com', 'Female', 'New York City', 'New York'), ('24-8062177', 'Nettle', 'Schorah', 'nschorah4@nydailynews.com', 'Female', 'Reno', 'Nevada'), ('43-3286318', 'Aubrie', 'Genn', 'agenn5@google.de', 'Female', 'Wichita Falls', 'Texas'), ('59-1091776', 'Lukas', 'Goodband', 'lgoodband6@huffingtonpost.com', 'Male', 'Orlando', 'Florida'), ('65-8424152', 'Ladonna', 'MacCard', 'lmaccard7@phoca.cz', 'Female', 'Columbus', 'Ohio'), ('12-5741922', 'Sallie', 'Perassi', 'sperassi8@fc2.com', 'Female', 'Shreveport', 'Louisiana'), ('20-5576856', 'Kirsteni', 'Jerrems', 'kjerrems9@irs.gov', 'Female', 'Honolulu', 'Hawaii'), ('61-4021794', 'Nicol', 'Vossing', 'nvossinga@mashable.com', 'Female', 'San Diego', 'California'), ('65-6894156', 'Lauraine', 'Glasman', 'lglasmanb@ucoz.ru', 'Female', 'Toledo', 'Ohio'), ('40-8158853', 'Derron', 'McGrey', 'dmcgreyc@t-online.de', 'Male', 'Denver', 'Colorado'), ('27-4254127', 'Anjanette', 'Kerner', 'akernerd@cnbc.com', 'Female', 'El Paso', 'Texas'), ('79-0053054', 'Meghann', 'Cauldwell', 'mcauldwelle@vistaprint.com', 'Female', 'Lafayette', 'Louisiana'), ('15-2503624', 'Nerita', 'Southwood', 'nsouthwoodf@arizona.edu', 'Female', 'Roanoke', 'Virginia'), ('79-5543697', 'Dorine', 'Glader', 'dgladerg@harvard.edu', 'Female', 'Chattanooga', 'Tennessee'), ('30-3451451', 'Pammi', 'Graffham', 'pgraffhamh@hostgator.com', 'Female', 'Louisville', 'Kentucky'), ('69-7511449', 'Alanson', 'Slimings', 'aslimingsi@cornell.edu', 'Male', 'Buffalo', 'New York'), ('85-9225842', 'Coretta', 'Salzen', 'csalzenj@xinhuanet.com', 'Female', 'Young America', 'Minnesota'), ('99-9689926', 'Micky', 'Reuven', 'mreuvenk@odnoklassniki.ru', 'Female', 'Knoxville', 'Tennessee'), ('74-8735745', 'Garth', 'Vear', 'gvearl@dailymotion.com', 'Male', 'San Francisco', 'California'), ('52-2572968', 'Arnoldo', 'Pusill', 'apusillm@vkontakte.ru', 'Male', 'New York City', 'New York'), ('89-9727686', 'Bobbie', 'Marquiss', 'bmarquissn@timesonline.co.uk', 'Female', 'Portsmouth', 'New Hampshire'), ('38-4199610', 'Reinwald', 'Sreenan', 'rsreenano@cornell.edu', 'Male', 'Fort Worth', 'Texas'), ('18-1237971', 'Derward', 'Soppitt', 'dsoppittp@guardian.co.uk', 'Male', 'Fort Lauderdale', 'Florida'), ('78-3709680', 'Hugh', 'Parramore', 'hparramoreq@weebly.com', 'Male', 'Albuquerque', 'New Mexico'), ('25-9575277', 'Almeria', 'Lecointe', 'alecointer@example.com', 'Female', 'Louisville', 'Kentucky'), ('37-4695393', 'Thorvald', 'Davidai', 'tdavidais@imageshack.us', 'Male', 'Tucson', 'Arizona'), ('23-7891496', 'Lorin', 'Saunt', 'lsauntt@ft.com', 'Male', 'Sacramento', 'California'), ('19-2869187', 'Hillard', 'McAughtry', 'hmcaughtryu@scribd.com', 'Male', 'Van Nuys', 'California'), ('22-4367935', 'Alard', 'Matchett', 'amatchettv@newsvine.com', 'Male', 'South Bend', 'Indiana'), ('08-2620865', 'Ewell', 'Longmaid', 'elongmaidw@youtube.com', 'Male', 'Little Rock', 'Arkansas'), ('22-5921759', 'Breena', 'Robottom', 'brobottomx@google.ru', 'Female', 'San Diego', 'California'), ('95-3608488', 'Augy', 'Worsley', 'aworsleyy@latimes.com', 'Male', 'Lexington', 'Kentucky'), ('10-8105117', 'Wallas', 'Balog', 'wbalogz@oakley.com', 'Male', 'Washington', 'District of Columbia'), ('80-0361959', 'Preston', 'Ruggs', 'pruggs10@chicagotribune.com', 'Male', 'Wichita Falls', 'Texas'), ('92-6122629', 'Lory', 'Prichard', 'lprichard11@xing.com', 'Female', 'New York City', 'New York'), ('52-4975140', 'Jemima', 'Danhel', 'jdanhel12@google.it', 'Female', 'Chicago', 'Illinois'), ('82-4220997', 'Gisela', 'Tendahl', 'gtendahl13@intel.com', 'Female', 'Bethesda', 'Maryland'), ('36-5974370', 'Marian', 'Moulsdall', 'mmoulsdall14@tinyurl.com', 'Female', 'Boulder', 'Colorado'), ('24-5967934', 'Griffith', 'Gearty', 'ggearty15@symantec.com', 'Male', 'Reading', 'Pennsylvania'), ('83-4705394', 'Bel', 'Lerner', 'blerner16@umich.edu', 'Female', 'Albany', 'New York'), ('21-4185075', 'Amii', 'Towner', 'atowner17@odnoklassniki.ru', 'Female', 'Chicago', 'Illinois'), ('82-1849708', 'Sabrina', 'Balham', 'sbalham18@weibo.com', 'Female', 'Seattle', 'Washington'), ('31-4235758', 'Buddie', 'Smeaton', 'bsmeaton19@miibeian.gov.cn', 'Male', 'Plano', 'Texas'), ('37-3923014', 'Morena', 'Amos', 'mamos1a@geocities.jp', 'Female', 'Washington', 'District of Columbia'), ('20-1470024', 'Alberta', 'Oxbe', 'aoxbe1b@yandex.ru', 'Female', 'Baltimore', 'Maryland'), ('27-3662740', 'Aveline', 'Bradneck', 'abradneck1c@ameblo.jp', 'Female', 'Washington', 'District of Columbia'), ('07-3183968', 'Georgette', 'Risson', 'grisson1d@edublogs.org', 'Female', 'New York City', 'New York'), ('02-2171157', 'Marya', 'McPhillimey', 'mmcphillimey1e@ebay.co.uk', 'Female', 'Salt Lake City', 'Utah'), ('24-1378148', 'Hilly', 'Elder', 'helder1f@usatoday.com', 'Male', 'Reston', 'Virginia'), ('36-9280118', 'Sandy', 'Rivitt', 'srivitt1g@columbia.edu', 'Female', 'Des Moines', 'Iowa'), ('86-1682551', 'Myrna', 'Fromant', 'mfromant1h@tamu.edu', 'Female', 'Indianapolis', 'Indiana'), ('42-6644000', 'Jaquelin', 'Haywood', 'jhaywood1i@amazon.co.jp', 'Female', 'Clearwater', 'Florida'), ('20-4317855', 'Roseanne', 'Silvester', 'rsilvester1j@vk.com', 'Female', 'Washington', 'District of Columbia'), ('91-3910401', 'Quintus', 'Clavey', 'qclavey1k@apache.org', 'Male', 'Indianapolis', 'Indiana'), ('18-6716317', 'Augie', 'Pibworth', 'apibworth1l@slideshare.net', 'Male', 'Tucson', 'Arizona'), ('10-7108753', 'Stacia', 'Canning', 'scanning1m@accuweather.com', 'Female', 'Boulder', 'Colorado'), ('00-5200086', 'Ardene', 'Hartell', 'ahartell1n@archive.org', 'Female', 'Montgomery', 'Alabama'), ('18-6508396', 'Erasmus', 'Burvill', 'eburvill1o@51.la', 'Male', 'Colorado Springs', 'Colorado'), ('84-9873680', 'Christalle', 'McCafferky', 'cmccafferky1p@tuttocitta.it', 'Female', 'Camden', 'New Jersey'), ('94-3222656', 'Aileen', 'Pithcock', 'apithcock1q@ucoz.com', 'Female', 'Miami', 'Florida'), ('72-3007038', 'Ingelbert', 'Farbrother', 'ifarbrother1r@ebay.co.uk', 'Male', 'Dallas', 'Texas'), ('20-0591254', 'Arlyn', 'Provest', 'aprovest1s@123-reg.co.uk', 'Female', 'Jamaica', 'New York'), ('64-5122976', 'Heywood', 'Varne', 'hvarne1t@google.nl', 'Male', 'Wilmington', 'North Carolina'), ('05-3563210', 'Kissie', 'Pinnington', 'kpinnington1u@rakuten.co.jp', 'Female', 'Memphis', 'Tennessee'), ('48-5370243', 'Terry', 'Geffen', 'tgeffen1v@wisc.edu', 'Female', 'Knoxville', 'Tennessee'), ('28-5766610', 'Derek', 'Lindblad', 'dlindblad1w@cbc.ca', 'Male', 'Newport News', 'Virginia'), ('44-1488931', 'Verene', 'MacAnulty', 'vmacanulty1x@jalbum.net', 'Female', 'New York City', 'New York'), ('73-2686495', 'Genvieve', 'Densell', 'gdensell1y@cdbaby.com', 'Female', 'Shreveport', 'Louisiana'), ('72-0199911', 'Vernice', 'Riseley', 'vriseley1z@aol.com', 'Female', 'Canton', 'Ohio'), ('24-7336591', 'Jeane', 'Clineck', 'jclineck20@godaddy.com', 'Female', 'Winston Salem', 'North Carolina'), ('69-7314080', 'Fanny', 'Sango', 'fsango21@acquirethisname.com', 'Female', 'Syracuse', 'New York'), ('56-3656020', 'Tanny', 'Wysome', 'twysome22@washington.edu', 'Male', 'Colorado Springs', 'Colorado'), ('36-3400917', 'Vance', 'Trevorrow', 'vtrevorrow23@ebay.com', 'Male', 'Indianapolis', 'Indiana'), ('68-6266677', 'Lynett', 'Please', 'lplease24@google.com', 'Female', 'Littleton', 'Colorado'), ('21-6237684', 'Krystyna', 'Alloway', 'kalloway25@buzzfeed.com', 'Female', 'Paterson', 'New Jersey'), ('62-4185446', 'Kerwin', 'Jaeggi', 'kjaeggi26@macromedia.com', 'Male', 'Arlington', 'Virginia'), ('11-8005330', 'Aldis', 'Paula', 'apaula27@arstechnica.com', 'Male', 'Phoenix', 'Arizona'), ('87-8757583', 'Germaine', 'Le Blanc', 'gleblanc28@goo.gl', 'Male', 'Metairie', 'Louisiana'), ('98-3677732', 'Chrissy', 'Aspinell', 'caspinell29@jugem.jp', 'Female', 'Oklahoma City', 'Oklahoma'), ('22-6006396', 'Derron', 'Dowdle', 'ddowdle2a@etsy.com', 'Male', 'Ogden', 'Utah'), ('30-4746410', 'Carroll', 'Lujan', 'clujan2b@themeforest.net', 'Female', 'Arlington', 'Texas'), ('77-8730525', 'Perice', 'McBrady', 'pmcbrady2c@ucsd.edu', 'Male', 'Youngstown', 'Ohio'), ('14-3495785', 'Consolata', 'Janoch', 'cjanoch2d@cbc.ca', 'Female', 'Harrisburg', 'Pennsylvania'), ('85-5810610', 'Bar', 'Bacup', 'bbacup2e@tamu.edu', 'Male', 'Washington', 'District of Columbia'), ('09-7888803', 'Brigid', 'Chantree', 'bchantree2f@acquirethisname.com', 'Female', 'San Diego', 'California'), ('45-2851368', 'Missie', 'Duncklee', 'mduncklee2g@wikia.com', 'Female', 'Charleston', 'West Virginia'), ('99-6120642', 'Mildrid', 'Greally', 'mgreally2h@chronoengine.com', 'Female', 'Peoria', 'Illinois'), ('72-4302883', 'Octavius', 'Kiln', 'okiln2i@storify.com', 'Male', 'Sacramento', 'California'), ('92-1391578', 'Elysha', 'Westmore', 'ewestmore2j@baidu.com', 'Female', 'Port Charlotte', 'Florida'), ('93-0594485', 'Pryce', 'Hollows', 'phollows2k@dropbox.com', 'Male', 'Washington', 'District of Columbia'), ('10-4868081', 'Ruy', 'Coker', 'rcoker2l@reddit.com', 'Male', 'East Saint Louis', 'Illinois'), ('14-9439305', 'Enoch', \"O'Currine\", 'eocurrine2m@opera.com', 'Male', 'Naperville', 'Illinois'), ('93-8672965', 'Jervis', 'Cathrall', 'jcathrall2n@youku.com', 'Male', 'Orange', 'California'), ('78-8862102', 'Jehu', 'Haskew', 'jhaskew2o@deliciousdays.com', 'Male', 'Roanoke', 'Virginia'), ('30-8788933', 'Caryn', 'Hubane', 'chubane2p@jugem.jp', 'Female', 'Lansing', 'Michigan'), ('11-0493201', 'Geno', 'Nozzolinii', 'gnozzolinii2q@exblog.jp', 'Male', 'Long Beach', 'California'), ('68-8236639', 'Burty', 'Savege', 'bsavege2r@mozilla.org', 'Male', 'Indianapolis', 'Indiana'), ('69-6455616', 'Cheston', 'Palfreyman', 'cpalfreyman2s@zimbio.com', 'Male', 'Shreveport', 'Louisiana'), ('23-5219793', 'Lucie', 'Earland', 'learland2t@nih.gov', 'Female', 'Columbia', 'South Carolina'), ('50-8250064', 'Loleta', \"O' Byrne\", 'lobyrne2u@bloglovin.com', 'Female', 'Miami', 'Florida'), ('56-1592693', 'Elmer', 'Dignan', 'edignan2v@friendfeed.com', 'Male', 'Saint Louis', 'Missouri'), ('47-2165904', 'Benjy', 'Bottelstone', 'bbottelstone2w@themeforest.net', 'Male', 'Sarasota', 'Florida'), ('07-4008306', 'Trever', 'Eayres', 'teayres2x@google.de', 'Male', 'Dallas', 'Texas'), ('54-2250974', 'Roobbie', 'Guild', 'rguild2y@github.com', 'Female', 'North Las Vegas', 'Nevada'), ('06-0250666', 'Chlo', 'Birts', 'cbirts2z@pagesperso-orange.fr', 'Female', 'Dallas', 'Texas'), ('86-0682625', 'Meredeth', 'Biles', 'mbiles30@home.pl', 'Male', 'Houston', 'Texas'), ('99-3121195', 'Nicol', 'Currier', 'ncurrier31@ifeng.com', 'Female', 'Hartford', 'Connecticut'), ('27-3506017', 'Anne', 'Dunford', 'adunford32@dailymotion.com', 'Female', 'Tallahassee', 'Florida'), ('54-4445555', 'Blane', 'Hancox', 'bhancox33@chicagotribune.com', 'Male', 'Baton Rouge', 'Louisiana'), ('97-3641607', 'Morse', 'Clac', 'mclac34@meetup.com', 'Male', 'Corpus Christi', 'Texas'), ('36-1518293', 'Baird', 'Dulton', 'bdulton35@yellowpages.com', 'Male', 'Mountain View', 'California'), ('81-2373620', 'Sacha', 'Gritten', 'sgritten36@purevolume.com', 'Female', 'Pueblo', 'Colorado'), ('87-0239461', 'Ogdon', 'Innwood', 'oinnwood37@imdb.com', 'Male', 'Lexington', 'Kentucky'), ('71-9835103', 'Inglebert', 'Trimbey', 'itrimbey38@vinaora.com', 'Male', 'Savannah', 'Georgia'), ('70-1206970', 'Jasmina', \"O'Noland\", 'jonoland39@histats.com', 'Female', 'Bridgeport', 'Connecticut'), ('83-1847741', 'Iormina', 'Adicot', 'iadicot3a@reverbnation.com', 'Female', 'San Francisco', 'California'), ('98-8931780', 'Scottie', 'Hilldrop', 'shilldrop3b@canalblog.com', 'Male', 'Cincinnati', 'Ohio'), ('05-3943900', 'Adara', 'Tute', 'atute3c@friendfeed.com', 'Female', 'West Palm Beach', 'Florida'), ('66-9721872', 'Lilli', 'Barnwell', 'lbarnwell3d@discuz.net', 'Female', 'San Antonio', 'Texas'), ('51-0816224', 'Tatiania', 'Ogborne', 'togborne3e@miitbeian.gov.cn', 'Female', 'New York City', 'New York'), ('37-1214200', 'Kaine', 'Hulburt', 'khulburt3f@economist.com', 'Male', 'Columbus', 'Ohio'), ('10-8628886', 'Janella', 'Taysbil', 'jtaysbil3g@dedecms.com', 'Female', 'Buffalo', 'New York'), ('31-8914415', 'Sutherland', 'Elie', 'selie3h@cmu.edu', 'Male', 'Springfield', 'Massachusetts'), ('84-3454684', 'Beth', 'Bahl', 'bbahl3i@mysql.com', 'Female', 'Helena', 'Montana'), ('65-0631406', 'Nerissa', 'Fenwick', 'nfenwick3j@webmd.com', 'Female', 'Spartanburg', 'South Carolina'), ('87-7670847', 'Billi', 'Vear', 'bvear3k@photobucket.com', 'Female', 'Independence', 'Missouri'), ('92-4077185', 'Eolanda', 'Abrahm', 'eabrahm3l@icio.us', 'Female', 'Boise', 'Idaho'), ('37-9440365', 'Venita', 'Heathfield', 'vheathfield3m@rediff.com', 'Female', 'Baltimore', 'Maryland'), ('00-9762666', 'Saidee', 'Channing', 'schanning3n@goo.ne.jp', 'Female', 'Van Nuys', 'California'), ('07-1586110', 'Cory', 'Barthrop', 'cbarthrop3o@cnn.com', 'Female', 'Elmira', 'New York'), ('84-1482139', 'Guglielmo', 'Brockie', 'gbrockie3p@wufoo.com', 'Male', 'Bethesda', 'Maryland'), ('82-2659846', 'Delcina', 'McAtamney', 'dmcatamney3q@state.tx.us', 'Female', 'Memphis', 'Tennessee'), ('37-3851032', 'Roanna', 'Ixor', 'rixor3r@salon.com', 'Female', 'Columbia', 'South Carolina'), ('70-5847756', 'Ravid', 'Longridge', 'rlongridge3s@apache.org', 'Male', 'Omaha', 'Nebraska'), ('45-6626902', 'Leonhard', 'Barz', 'lbarz3t@psu.edu', 'Male', 'Levittown', 'Pennsylvania'), ('07-7130378', 'Mella', 'Tebald', 'mtebald3u@boston.com', 'Female', 'Charleston', 'West Virginia'), ('89-2151209', 'Haven', 'Waldram', 'hwaldram3v@joomla.org', 'Male', 'Honolulu', 'Hawaii'), ('35-4159713', 'Bethina', 'Casseldine', 'bcasseldine3w@google.de', 'Female', 'Birmingham', 'Alabama'), ('71-3254362', 'Kendell', 'Dunridge', 'kdunridge3x@mapquest.com', 'Male', 'Manchester', 'New Hampshire'), ('81-2473901', 'Derry', 'McKinless', 'dmckinless3y@bluehost.com', 'Male', 'Jefferson City', 'Missouri'), ('64-0900623', 'Franky', 'Wakes', 'fwakes3z@jugem.jp', 'Female', 'El Paso', 'Texas'), ('17-5320292', 'Jarid', 'Kohring', 'jkohring40@w3.org', 'Male', 'Camden', 'New Jersey'), ('44-2191126', 'Caryl', 'Eisig', 'ceisig41@4shared.com', 'Male', 'Riverside', 'California'), ('70-8356718', 'Carma', 'Edelmann', 'cedelmann42@ehow.com', 'Female', 'Cincinnati', 'Ohio'), ('31-2519268', 'Marlo', 'Ricks', 'mricks43@ed.gov', 'Female', 'Boston', 'Massachusetts'), ('82-6932146', 'Mattheus', 'Woolerton', 'mwoolerton44@ocn.ne.jp', 'Male', 'New Orleans', 'Louisiana'), ('97-4666853', 'Margie', 'Thoumas', 'mthoumas45@pbs.org', 'Female', 'Fort Lauderdale', 'Florida'), ('56-5476801', 'Ban', 'Walicki', 'bwalicki46@marriott.com', 'Male', 'Cincinnati', 'Ohio'), ('75-0128817', 'Gillan', 'Harburtson', 'gharburtson47@ycombinator.com', 'Female', 'New Hyde Park', 'New York'), ('82-2038264', 'Zorah', 'Tressler', 'ztressler48@etsy.com', 'Female', 'Birmingham', 'Alabama'), ('46-2459675', 'Kelby', 'Element', 'kelement49@oracle.com', 'Male', 'Wichita', 'Kansas'), ('77-1193619', 'Vinita', 'Mulrenan', 'vmulrenan4a@sohu.com', 'Female', 'Atlanta', 'Georgia'), ('45-0963931', 'Rebeka', 'Paulet', 'rpaulet4b@microsoft.com', 'Female', 'Tacoma', 'Washington'), ('10-5399586', 'Clerkclaude', 'Attenburrow', 'cattenburrow4c@infoseek.co.jp', 'Male', 'Springfield', 'Illinois'), ('95-1889655', 'Morgan', 'Gonnely', 'mgonnely4d@hugedomains.com', 'Male', 'Washington', 'District of Columbia'), ('83-4499747', 'Alisun', 'Passman', 'apassman4e@miitbeian.gov.cn', 'Female', 'New York City', 'New York'), ('54-1251243', 'Saunder', 'Leall', 'sleall4f@microsoft.com', 'Male', 'Vero Beach', 'Florida'), ('77-2872362', 'Kennedy', 'Rogister', 'krogister4g@naver.com', 'Male', 'San Antonio', 'Texas'), ('58-0821084', 'Waiter', 'Flaunier', 'wflaunier4h@wordpress.com', 'Male', 'New York City', 'New York'), ('97-9333104', 'Michal', 'Fownes', 'mfownes4i@go.com', 'Female', 'West Palm Beach', 'Florida'), ('83-8935137', 'Alfy', 'Cluett', 'acluett4j@about.com', 'Female', 'Boise', 'Idaho'), ('99-2126146', 'Huntley', 'Aberdalgy', 'haberdalgy4k@typepad.com', 'Male', 'New York City', 'New York'), ('59-7953063', 'Dillon', 'Philips', 'dphilips4l@unc.edu', 'Male', 'Berkeley', 'California'), ('24-5924162', 'Megen', 'Blaiklock', 'mblaiklock4m@japanpost.jp', 'Female', 'Saint Petersburg', 'Florida'), ('88-6668315', 'Maritsa', 'Titt', 'mtitt4n@macromedia.com', 'Female', 'Sacramento', 'California'), ('24-9658022', 'Niki', 'Billitteri', 'nbillitteri4o@vk.com', 'Male', 'El Paso', 'Texas'), ('23-1357551', 'Caro', 'Baudy', 'cbaudy4p@wikia.com', 'Female', 'New York City', 'New York'), ('79-9908920', 'Currey', 'Eggins', 'ceggins4q@princeton.edu', 'Male', 'Charlotte', 'North Carolina'), ('06-6577274', 'Eldon', 'Snoddy', 'esnoddy4r@nih.gov', 'Male', 'Roanoke', 'Virginia'), ('77-1237742', 'Rachel', 'Brummitt', 'rbrummitt4s@ted.com', 'Female', 'Portland', 'Maine'), ('12-8305766', 'Antonino', 'Ismirnioglou', 'aismirnioglou4t@wisc.edu', 'Male', 'South Bend', 'Indiana'), ('84-5538463', 'Shelley', 'Batteson', 'sbatteson4u@springer.com', 'Female', 'Spring Hill', 'Florida'), ('73-0516228', 'Berke', 'Ledeker', 'bledeker4v@linkedin.com', 'Male', 'Buffalo', 'New York'), ('13-5366659', 'Cherry', 'Kille', 'ckille4w@nsw.gov.au', 'Female', 'Santa Barbara', 'California'), ('41-0312488', 'Douglas', 'Trouel', 'dtrouel4x@weebly.com', 'Male', 'Springfield', 'Illinois'), ('76-7782679', 'Crissy', 'Shuter', 'cshuter4y@tamu.edu', 'Female', 'North Las Vegas', 'Nevada'), ('63-2195367', 'Lawry', 'Ormes', 'lormes4z@patch.com', 'Male', 'Oklahoma City', 'Oklahoma'), ('73-9037903', 'Michele', 'Mabbott', 'mmabbott50@cnn.com', 'Female', 'Delray Beach', 'Florida'), ('53-0785582', 'Letta', 'Fitzsymon', 'lfitzsymon51@wikipedia.org', 'Female', 'Philadelphia', 'Pennsylvania'), ('65-2527130', 'Rhianna', 'Eagell', 'reagell52@feedburner.com', 'Female', 'Huntsville', 'Alabama'), ('96-1144518', 'Octavia', 'Attwool', 'oattwool53@house.gov', 'Female', 'San Francisco', 'California'), ('48-5969908', 'Genni', 'Lucien', 'glucien54@netlog.com', 'Female', 'Jackson', 'Mississippi'), ('26-4353798', 'Shirley', 'Slocumb', 'sslocumb55@hubpages.com', 'Female', 'New Orleans', 'Louisiana'), ('06-5585322', 'Dag', 'Atterley', 'datterley56@xrea.com', 'Male', 'West Palm Beach', 'Florida'), ('66-3453116', 'Alfie', 'Field', 'afield57@plala.or.jp', 'Male', 'Canton', 'Ohio'), ('51-4454770', 'Dermot', 'Halpen', 'dhalpen58@cnet.com', 'Male', 'Bronx', 'New York'), ('81-0880743', 'Tirrell', 'Horley', 'thorley59@fema.gov', 'Male', 'Silver Spring', 'Maryland'), ('17-6216294', 'Marlena', 'Kenner', 'mkenner5a@tiny.cc', 'Female', 'Denver', 'Colorado'), ('83-7545489', 'Weidar', 'Rysdale', 'wrysdale5b@eventbrite.com', 'Male', 'Dayton', 'Ohio'), ('04-5028446', 'Ara', 'Nussey', 'anussey5c@toplist.cz', 'Male', 'San Francisco', 'California'), ('57-4746873', 'Joseph', 'Wrenn', 'jwrenn5d@homestead.com', 'Male', 'Saint Louis', 'Missouri'), ('01-3493815', 'Hagan', 'Mingard', 'hmingard5e@who.int', 'Male', 'Los Angeles', 'California'), ('54-2976573', 'Nydia', 'Jeens', 'njeens5f@statcounter.com', 'Female', 'Huntsville', 'Alabama'), ('94-7756469', 'Erek', 'Moulton', 'emoulton5g@yahoo.co.jp', 'Male', 'Sacramento', 'California'), ('71-9117156', 'Curt', 'Smewing', 'csmewing5h@patch.com', 'Male', 'Rochester', 'New York'), ('84-7638314', 'Kurtis', 'Potebury', 'kpotebury5i@jiathis.com', 'Male', 'Washington', 'District of Columbia'), ('38-7383034', 'Thurstan', 'Iori', 'tiori5j@phpbb.com', 'Male', 'Toledo', 'Ohio'), ('45-2700838', 'Florenza', 'Cazin', 'fcazin5k@loc.gov', 'Female', 'Norcross', 'Georgia'), ('98-4053450', 'Ivonne', 'Bigham', 'ibigham5l@sciencedaily.com', 'Female', 'Brooksville', 'Florida'), ('63-0848328', 'Sax', 'Stennet', 'sstennet5m@webnode.com', 'Male', 'Akron', 'Ohio'), ('48-1071537', 'Fidelia', 'Rawsthorne', 'frawsthorne5n@cbc.ca', 'Female', 'Nashville', 'Tennessee'), ('44-5440869', 'Filmore', 'Maber', 'fmaber5o@nsw.gov.au', 'Male', 'Scranton', 'Pennsylvania'), ('97-4531198', 'Harriette', 'Karel', 'hkarel5p@51.la', 'Female', 'Charleston', 'West Virginia'), ('66-3277371', 'Carlita', 'Tremblet', 'ctremblet5q@slideshare.net', 'Female', 'New York City', 'New York'), ('70-0400720', 'Giustino', 'Nanninini', 'gnanninini5r@unc.edu', 'Male', 'Lake Worth', 'Florida'), ('97-5167337', 'Hashim', 'Vogl', 'hvogl5s@senate.gov', 'Male', 'Berkeley', 'California'), ('09-1806858', 'Fields', 'Downer', 'fdowner5t@abc.net.au', 'Male', 'Las Vegas', 'Nevada'), ('85-5191098', 'Karna', 'Tilmouth', 'ktilmouth5u@rakuten.co.jp', 'Female', 'Tampa', 'Florida'), ('77-5001301', 'Markos', 'Evers', 'mevers5v@house.gov', 'Male', 'Nashville', 'Tennessee'), ('95-7776788', 'Drew', 'Barrett', 'dbarrett5w@about.me', 'Male', 'Des Moines', 'Iowa'), ('04-1541244', 'Townsend', 'Wadsworth', 'twadsworth5x@icio.us', 'Male', 'Houston', 'Texas'), ('91-9041804', 'Doug', 'Calcut', 'dcalcut5y@ucla.edu', 'Male', 'Saint Louis', 'Missouri'), ('47-1526424', 'Dinah', 'Mattiato', 'dmattiato5z@weebly.com', 'Female', 'Helena', 'Montana'), ('90-3317893', 'Karina', 'Macey', 'kmacey60@engadget.com', 'Female', 'Reading', 'Pennsylvania'), ('11-2634892', 'Win', 'Swinnard', 'wswinnard61@aol.com', 'Male', 'Boston', 'Massachusetts'), ('92-4252759', 'Dennis', 'Deveraux', 'ddeveraux62@berkeley.edu', 'Male', 'Fort Lauderdale', 'Florida'), ('61-9065132', 'Jolene', 'Wiffen', 'jwiffen63@slashdot.org', 'Female', 'Saint Paul', 'Minnesota'), ('59-0699977', 'Lynsey', 'Proudley', 'lproudley64@wufoo.com', 'Female', 'Rochester', 'New York'), ('35-6168493', 'Kimberlee', 'Carluccio', 'kcarluccio65@netvibes.com', 'Female', 'Springfield', 'Massachusetts'), ('95-8319097', 'Julee', 'Lithcow', 'jlithcow66@ycombinator.com', 'Female', 'Chicago', 'Illinois'), ('52-2831500', 'Sydney', 'McEllen', 'smcellen67@archive.org', 'Male', 'Anderson', 'Indiana'), ('81-0687872', 'Sibley', 'Radolf', 'sradolf68@alexa.com', 'Female', 'New York City', 'New York'), ('35-2273644', 'Cacilia', 'Halden', 'chalden69@github.io', 'Female', 'Clearwater', 'Florida'), ('65-2826534', 'Dukie', 'Dalgardno', 'ddalgardno6a@cocolog-nifty.com', 'Male', 'Littleton', 'Colorado'), ('95-7439683', 'Bee', 'Lavrinov', 'blavrinov6b@unicef.org', 'Female', 'Wilmington', 'North Carolina'), ('26-9722071', 'Maurise', 'McCloid', 'mmccloid6c@blog.com', 'Male', 'North Hollywood', 'California'), ('88-6713945', 'Nicolas', 'Collier', 'ncollier6d@1688.com', 'Male', 'Green Bay', 'Wisconsin'), ('81-2523223', 'Genny', 'Drysdale', 'gdrysdale6e@dyndns.org', 'Female', 'Harrisburg', 'Pennsylvania'), ('70-2547086', 'Candida', 'Champ', 'cchamp6f@wix.com', 'Female', 'Columbia', 'South Carolina'), ('67-5731378', 'Burty', 'Edess', 'bedess6g@phpbb.com', 'Male', 'Nashville', 'Tennessee'), ('36-0141660', 'Edvard', 'Trevithick', 'etrevithick6h@springer.com', 'Male', 'New York City', 'New York'), ('05-3620546', 'Keven', 'Barneville', 'kbarneville6i@dedecms.com', 'Male', 'San Antonio', 'Texas'), ('65-7613902', 'Babs', 'Beldon', 'bbeldon6j@desdev.cn', 'Female', 'Santa Cruz', 'California'), ('92-6909748', 'Peterus', 'Piburn', 'ppiburn6k@cargocollective.com', 'Male', 'Boca Raton', 'Florida'), ('62-6749434', 'Rivalee', 'Leftley', 'rleftley6l@businesswire.com', 'Female', 'Santa Fe', 'New Mexico'), ('45-5402640', 'Boote', 'Hillum', 'bhillum6m@bloomberg.com', 'Male', 'Birmingham', 'Alabama'), ('78-5406936', 'Arturo', 'Jewel', 'ajewel6n@g.co', 'Male', 'Orlando', 'Florida'), ('71-1747513', 'Abel', 'McGillacoell', 'amcgillacoell6o@dmoz.org', 'Male', 'Savannah', 'Georgia'), ('30-1734975', 'Gian', 'Molloy', 'gmolloy6p@chron.com', 'Male', 'Saint Louis', 'Missouri'), ('94-4023803', 'Amil', 'Gilbard', 'agilbard6q@cpanel.net', 'Female', 'Warren', 'Ohio'), ('74-3497473', 'Hyacinthia', 'Orriss', 'horriss6r@purevolume.com', 'Female', 'Kansas City', 'Missouri'), ('88-6361439', 'Mar', 'Keepe', 'mkeepe6s@google.es', 'Male', 'Richmond', 'Virginia'), ('58-3274439', 'Douglas', 'Lightbown', 'dlightbown6t@hhs.gov', 'Male', 'Terre Haute', 'Indiana'), ('56-0522738', 'Ingunna', 'Finnan', 'ifinnan6u@bbb.org', 'Female', 'Tucson', 'Arizona'), ('07-9731218', 'Chickie', 'Eassom', 'ceassom6v@storify.com', 'Female', 'Clearwater', 'Florida'), ('83-5505067', 'Mina', 'Curgenven', 'mcurgenven6w@over-blog.com', 'Female', 'Huntsville', 'Alabama'), ('81-9872672', 'Freedman', 'Vouls', 'fvouls6x@list-manage.com', 'Male', 'Chicago', 'Illinois'), ('77-6068524', 'Irv', 'Newark', 'inewark6y@bloglovin.com', 'Male', 'Houston', 'Texas'), ('65-4494328', 'Addy', 'Lux', 'alux6z@msu.edu', 'Male', 'Washington', 'District of Columbia'), ('28-4200925', 'Lilllie', 'Vise', 'lvise70@squidoo.com', 'Female', 'Hattiesburg', 'Mississippi'), ('29-2214287', 'Denys', 'Kidder', 'dkidder71@google.com.hk', 'Female', 'Juneau', 'Alaska'), ('78-2287491', 'Lin', 'Lidgey', 'llidgey72@princeton.edu', 'Female', 'Waco', 'Texas'), ('23-9916079', 'Fee', 'Pheby', 'fpheby73@so-net.ne.jp', 'Male', 'Houston', 'Texas'), ('75-5291978', 'Clarita', 'Buxam', 'cbuxam74@creativecommons.org', 'Female', 'Warren', 'Michigan'), ('27-5911718', 'Demetre', 'Privett', 'dprivett75@usa.gov', 'Male', 'Springfield', 'Missouri'), ('43-9778120', 'Auberta', 'Curmi', 'acurmi76@google.cn', 'Female', 'Albuquerque', 'New Mexico'), ('01-8253746', 'Rae', 'Pardal', 'rpardal77@archive.org', 'Female', 'Charlotte', 'North Carolina'), ('68-1791829', 'Sarajane', 'Bettington', 'sbettington78@sciencedirect.com', 'Female', 'Buffalo', 'New York'), ('75-1282275', 'Ira', 'Leiden', 'ileiden79@princeton.edu', 'Male', 'Charlottesville', 'Virginia'), ('91-7844451', 'Kailey', 'Weymouth', 'kweymouth7a@patch.com', 'Female', 'Fresno', 'California'), ('63-6037963', 'Armando', 'Tonbye', 'atonbye7b@nbcnews.com', 'Male', 'Oklahoma City', 'Oklahoma'), ('43-9360368', 'Alexina', 'Alenshev', 'aalenshev7c@123-reg.co.uk', 'Female', 'Los Angeles', 'California'), ('59-1426726', 'Perice', 'Dmitrichenko', 'pdmitrichenko7d@paginegialle.it', 'Male', 'Honolulu', 'Hawaii'), ('66-9244966', 'Daffy', 'Kelk', 'dkelk7e@mtv.com', 'Female', 'Daytona Beach', 'Florida'), ('82-0775056', 'Brandice', 'Mansion', 'bmansion7f@economist.com', 'Female', 'Salt Lake City', 'Utah'), ('91-8154210', 'Caryn', 'Hanstock', 'chanstock7g@google.com.au', 'Female', 'Beaufort', 'South Carolina'), ('76-5699419', 'Son', 'Sharphurst', 'ssharphurst7h@illinois.edu', 'Male', 'Irvine', 'California'), ('55-6368102', 'Worden', 'Dowdell', 'wdowdell7i@skype.com', 'Male', 'Detroit', 'Michigan'), ('01-8308618', 'Hendrick', 'Mardell', 'hmardell7j@paypal.com', 'Male', 'Springfield', 'Illinois'), ('50-2384235', 'Gaylene', 'Foord', 'gfoord7k@uiuc.edu', 'Female', 'Albany', 'Georgia'), ('41-4320599', 'Coop', 'Koppel', 'ckoppel7l@squidoo.com', 'Male', 'Naples', 'Florida'), ('45-1774011', 'Zahara', 'De Giovanni', 'zdegiovanni7m@cbsnews.com', 'Female', 'Memphis', 'Tennessee'), ('13-5200094', 'Bartholomeus', 'Aleksic', 'baleksic7n@dagondesign.com', 'Male', 'Huntington', 'West Virginia'), ('97-7565956', 'Carole', 'Heine', 'cheine7o@jugem.jp', 'Female', 'Topeka', 'Kansas'), ('29-4774230', 'Mord', 'Gawkes', 'mgawkes7p@tinyurl.com', 'Male', 'Schaumburg', 'Illinois'), ('22-0151541', 'Frankie', 'Witterick', 'fwitterick7q@cbslocal.com', 'Male', 'Las Vegas', 'Nevada'), ('12-1688572', 'Stanley', 'Djekic', 'sdjekic7r@canalblog.com', 'Male', 'Memphis', 'Tennessee'), ('93-2586302', 'Anissa', 'Shillabeare', 'ashillabeare7s@xinhuanet.com', 'Female', 'Denver', 'Colorado'), ('69-9075747', 'Emma', 'Ong', 'eong7t@scribd.com', 'Female', 'Philadelphia', 'Pennsylvania'), ('80-0248416', 'Maggi', 'Sor', 'msor7u@youku.com', 'Female', 'Dayton', 'Ohio'), ('17-6403999', 'Thatcher', 'Compston', 'tcompston7v@reddit.com', 'Male', 'Greensboro', 'North Carolina'), ('47-7165292', 'Issiah', 'Covely', 'icovely7w@shutterfly.com', 'Male', 'Sacramento', 'California'), ('42-5958071', 'Phelia', 'Pettifer', 'ppettifer7x@simplemachines.org', 'Female', 'Omaha', 'Nebraska'), ('48-7595740', 'Grantley', 'Athowe', 'gathowe7y@indiegogo.com', 'Male', 'Minneapolis', 'Minnesota'), ('12-1425725', 'Marillin', 'Cumber', 'mcumber7z@ovh.net', 'Female', 'Austin', 'Texas'), ('48-4503915', 'Essa', 'Lacaze', 'elacaze80@ocn.ne.jp', 'Female', 'Irvine', 'California'), ('80-0912894', 'Zita', 'Birts', 'zbirts81@businessinsider.com', 'Female', 'Huntington', 'West Virginia'), ('35-9078186', 'Jenni', 'Conybear', 'jconybear82@edublogs.org', 'Female', 'Cleveland', 'Ohio'), ('65-5980866', 'Nichols', 'Dulinty', 'ndulinty83@webs.com', 'Male', 'Miami', 'Florida'), ('95-6622021', 'Davida', 'Slora', 'dslora84@tiny.cc', 'Female', 'Peoria', 'Illinois'), ('54-4391089', 'Queenie', 'Rozet', 'qrozet85@addthis.com', 'Female', 'Canton', 'Ohio'), ('83-8476025', 'Daune', 'Bilney', 'dbilney86@t.co', 'Female', 'Vero Beach', 'Florida'), ('11-0239033', 'Marty', 'Manilo', 'mmanilo87@thetimes.co.uk', 'Female', 'Wilkes Barre', 'Pennsylvania'), ('55-3120987', 'Chandal', 'Calrow', 'ccalrow88@sphinn.com', 'Female', 'Atlanta', 'Georgia'), ('53-8190970', 'Ollie', 'Colloby', 'ocolloby89@dedecms.com', 'Female', 'Garden Grove', 'California'), ('29-6204400', 'Pacorro', 'Witchalls', 'pwitchalls8a@businessinsider.com', 'Male', 'Shawnee Mission', 'Kansas'), ('49-6177176', 'Verile', 'Hrus', 'vhrus8b@wikispaces.com', 'Female', 'San Diego', 'California'), ('76-1837887', 'Nero', 'Iacovelli', 'niacovelli8c@constantcontact.com', 'Male', 'Stockton', 'California'), ('98-4447637', 'Binnie', 'Girogetti', 'bgirogetti8d@apple.com', 'Female', 'Saint Louis', 'Missouri'), ('25-4858158', 'Carrissa', 'Tumilson', 'ctumilson8e@army.mil', 'Female', 'Irvine', 'California'), ('82-3741311', 'Bancroft', 'Wallington', 'bwallington8f@weebly.com', 'Male', 'Brooklyn', 'New York'), ('75-2310967', 'Georgeta', 'Crosoer', 'gcrosoer8g@de.vu', 'Female', 'Youngstown', 'Ohio'), ('93-4123833', 'Simone', 'Peacock', 'speacock8h@shutterfly.com', 'Male', 'San Antonio', 'Texas'), ('53-7578104', 'Suzi', 'Asp', 'sasp8i@naver.com', 'Female', 'Las Vegas', 'Nevada'), ('20-9638328', 'Ophelie', 'Warrender', 'owarrender8j@state.gov', 'Female', 'New York City', 'New York'), ('35-7764582', 'Lenard', 'Wyson', 'lwyson8k@studiopress.com', 'Male', 'North Little Rock', 'Arkansas'), ('54-7080216', 'Marve', 'Yukhin', 'myukhin8l@imdb.com', 'Male', 'Anderson', 'Indiana'), ('58-7506795', 'Paule', 'Lammerding', 'plammerding8m@nbcnews.com', 'Female', 'Pasadena', 'California'), ('92-2410555', 'Wood', 'Berrycloth', 'wberrycloth8n@nydailynews.com', 'Male', 'Madison', 'Wisconsin'), ('01-2142588', 'Norry', 'Boatman', 'nboatman8o@mashable.com', 'Male', 'Tacoma', 'Washington'), ('65-9362561', 'Erika', 'Renzullo', 'erenzullo8p@answers.com', 'Female', 'Cleveland', 'Ohio'), ('53-3228596', 'Halimeda', 'Girk', 'hgirk8q@boston.com', 'Female', 'New Orleans', 'Louisiana'), ('52-9158705', 'Wilhelmine', 'Rubinchik', 'wrubinchik8r@bloglines.com', 'Female', 'Las Vegas', 'Nevada'), ('24-6578725', 'Lyssa', 'Vynarde', 'lvynarde8s@harvard.edu', 'Female', 'Phoenix', 'Arizona'), ('73-5563650', 'Northrup', \"O'Luney\", 'noluney8t@shareasale.com', 'Male', 'Newton', 'Massachusetts'), ('48-3550663', 'Ruthanne', 'Maxwale', 'rmaxwale8u@statcounter.com', 'Female', 'Atlanta', 'Georgia'), ('48-9879784', 'Archibold', 'Miskelly', 'amiskelly8v@infoseek.co.jp', 'Male', 'Pittsburgh', 'Pennsylvania'), ('89-3139575', 'Hansiain', 'Fowls', 'hfowls8w@nsw.gov.au', 'Male', 'Shawnee Mission', 'Kansas'), ('29-5105605', 'Biron', 'Willicott', 'bwillicott8x@de.vu', 'Male', 'Sacramento', 'California'), ('28-6821581', 'Carlye', 'Erskin', 'cerskin8y@xinhuanet.com', 'Female', 'Saginaw', 'Michigan'), ('53-9112378', 'Archy', 'Rablen', 'arablen8z@biblegateway.com', 'Male', 'Whittier', 'California'), ('95-8377701', 'Brier', 'Grigorescu', 'bgrigorescu90@dailymotion.com', 'Female', 'Santa Rosa', 'California'), ('21-6152815', 'Vaughan', 'Challinor', 'vchallinor91@netvibes.com', 'Male', 'Cleveland', 'Ohio'), ('43-9973385', 'Hubert', 'Helstrom', 'hhelstrom92@ted.com', 'Male', 'Charlotte', 'North Carolina'), ('92-5514353', 'Marris', 'Mullett', 'mmullett93@mozilla.org', 'Female', 'Washington', 'District of Columbia'), ('67-4333755', 'Brockie', 'Chelam', 'bchelam94@vistaprint.com', 'Male', 'Lansing', 'Michigan'), ('36-0731954', 'Patrick', 'Gatsby', 'pgatsby95@nydailynews.com', 'Male', 'Baltimore', 'Maryland'), ('04-8079805', 'Annamarie', 'Izard', 'aizard96@tmall.com', 'Female', 'Milwaukee', 'Wisconsin'), ('89-9708969', 'Dniren', 'Patchett', 'dpatchett97@acquirethisname.com', 'Female', 'Baton Rouge', 'Louisiana'), ('52-9467902', 'Cindee', 'Bedell', 'cbedell98@deviantart.com', 'Female', 'Oxnard', 'California'), ('46-9130435', 'Eimile', 'Minette', 'eminette99@tamu.edu', 'Female', 'Fort Wayne', 'Indiana'), ('88-6075278', 'Nananne', 'Giorgiutti', 'ngiorgiutti9a@usatoday.com', 'Female', 'Port Washington', 'New York'), ('91-9543815', 'Agnola', 'Drage', 'adrage9b@feedburner.com', 'Female', 'Boston', 'Massachusetts'), ('18-1558041', 'Rhea', 'Piechnik', 'rpiechnik9c@sohu.com', 'Female', 'Raleigh', 'North Carolina'), ('00-3417687', 'Lyle', 'McEvilly', 'lmcevilly9d@xrea.com', 'Male', 'Honolulu', 'Hawaii'), ('64-0617716', 'Arnuad', 'Gaishson', 'agaishson9e@eepurl.com', 'Male', 'New York City', 'New York'), ('69-9694616', 'Jocelin', 'Speachley', 'jspeachley9f@edublogs.org', 'Female', 'Minneapolis', 'Minnesota'), ('09-3480982', 'Ogdon', 'Grinley', 'ogrinley9g@twitter.com', 'Male', 'Irving', 'Texas'), ('80-9376212', 'Fin', 'Dayly', 'fdayly9h@nydailynews.com', 'Male', 'Raleigh', 'North Carolina'), ('46-0610152', 'Christabel', 'Gallard', 'cgallard9i@marketwatch.com', 'Female', 'Pasadena', 'California'), ('70-3529901', 'Fonzie', 'Tipler', 'ftipler9j@usa.gov', 'Male', 'Dallas', 'Texas'), ('54-0271628', 'Karalee', 'Molineux', 'kmolineux9k@facebook.com', 'Female', 'Los Angeles', 'California'), ('11-3631852', 'Randene', 'Fairbrass', 'rfairbrass9l@hugedomains.com', 'Female', 'Grand Forks', 'North Dakota'), ('96-9341860', 'Kaylee', 'MacCallister', 'kmaccallister9m@feedburner.com', 'Female', 'Newton', 'Massachusetts'), ('54-1426503', 'Matty', 'Josovitz', 'mjosovitz9n@smugmug.com', 'Male', 'Atlanta', 'Georgia'), ('34-1609861', 'Dugald', 'Paskerful', 'dpaskerful9o@bravesites.com', 'Male', 'Anchorage', 'Alaska'), ('93-6255909', 'Sax', 'Joselevitz', 'sjoselevitz9p@bloglines.com', 'Male', 'Des Moines', 'Iowa'), ('18-9062877', 'Nikita', 'Hatter', 'nhatter9q@hp.com', 'Male', 'Naples', 'Florida'), ('25-6754099', 'Lanie', 'Halsey', 'lhalsey9r@ezinearticles.com', 'Male', 'Detroit', 'Michigan'), ('03-5925900', 'Hermon', 'Elfe', 'helfe9s@hubpages.com', 'Male', 'Albuquerque', 'New Mexico'), ('72-8514094', 'Dolley', 'Schutter', 'dschutter9t@drupal.org', 'Female', 'Washington', 'District of Columbia'), ('35-0412967', 'Salim', 'Hlavac', 'shlavac9u@google.nl', 'Male', 'West Palm Beach', 'Florida'), ('60-5810855', 'Rodrigo', 'Tresise', 'rtresise9v@china.com.cn', 'Male', 'Louisville', 'Kentucky'), ('19-7117674', 'Rafaela', 'Bridgman', 'rbridgman9w@wp.com', 'Female', 'Miami', 'Florida'), ('86-7652701', 'Gauthier', 'Mayling', 'gmayling9x@bizjournals.com', 'Male', 'Los Angeles', 'California'), ('74-2840107', 'Elia', 'Callinan', 'ecallinan9y@51.la', 'Male', 'Atlanta', 'Georgia'), ('56-4342817', 'Freddi', 'Spendlove', 'fspendlove9z@businesswire.com', 'Female', 'Yakima', 'Washington'), ('63-9021206', 'Ashil', 'Golby', 'agolbya0@boston.com', 'Female', 'Clearwater', 'Florida'), ('48-9485099', 'Ortensia', 'Bradder', 'obraddera1@boston.com', 'Female', 'Boston', 'Massachusetts'), ('24-5346582', 'Arielle', 'Pulman', 'apulmana2@seesaa.net', 'Female', 'Washington', 'District of Columbia'), ('25-4255341', 'Fairfax', 'Halley', 'fhalleya3@is.gd', 'Male', 'Dallas', 'Texas'), ('72-0496171', 'Elsy', 'Vaisey', 'evaiseya4@youku.com', 'Female', 'Harrisburg', 'Pennsylvania'), ('76-6502408', 'Tulley', 'Ossulton', 'tossultona5@about.me', 'Male', 'Wilmington', 'Delaware'), ('78-1147681', 'Catlaina', 'Remnant', 'cremnanta6@umn.edu', 'Female', 'Odessa', 'Texas'), ('99-5106650', 'Sue', 'Suston', 'ssustona7@ning.com', 'Female', 'Whittier', 'California'), ('27-0182947', 'Herrick', 'Stygall', 'hstygalla8@github.io', 'Male', 'Helena', 'Montana'), ('61-6497659', 'Emogene', 'Shimmans', 'eshimmansa9@tinyurl.com', 'Female', 'Charleston', 'West Virginia'), ('64-7026240', 'Stanislas', 'Flowith', 'sflowithaa@shareasale.com', 'Male', 'Richmond', 'Virginia'), ('06-5624696', 'Janeen', 'Konert', 'jkonertab@creativecommons.org', 'Female', 'Seattle', 'Washington'), ('09-8467766', 'Vonni', 'Magowan', 'vmagowanac@dot.gov', 'Female', 'Denver', 'Colorado'), ('68-0742065', 'Nicol', 'Rands', 'nrandsad@spotify.com', 'Female', 'Kansas City', 'Missouri'), ('57-8817085', 'Lorrin', 'Sowten', 'lsowtenae@elpais.com', 'Female', 'Greensboro', 'North Carolina'), ('61-3765149', 'Maxim', 'Kittless', 'mkittlessaf@w3.org', 'Male', 'Austin', 'Texas'), ('86-7620032', 'Roland', \"O'Kuddyhy\", 'rokuddyhyag@geocities.jp', 'Male', 'Jamaica', 'New York'), ('96-7409919', 'Kerrin', 'Tilne', 'ktilneah@ca.gov', 'Female', 'Tacoma', 'Washington'), ('47-7477748', 'Karoly', 'Sprowell', 'ksprowellai@weather.com', 'Male', 'Richmond', 'Virginia'), ('36-9009580', 'Lammond', 'Plom', 'lplomaj@chronoengine.com', 'Male', 'Boise', 'Idaho'), ('68-5765894', 'Uta', 'Shepheard', 'ushepheardak@acquirethisname.com', 'Female', 'Los Angeles', 'California'), ('35-9229762', 'Arlee', 'Moreby', 'amorebyal@mapquest.com', 'Female', 'Reading', 'Pennsylvania'), ('18-4475955', 'Yvon', 'Dawidowsky', 'ydawidowskyam@cdbaby.com', 'Male', 'Lancaster', 'Pennsylvania'), ('15-3132909', 'Antin', 'Lodovichi', 'alodovichian@spotify.com', 'Male', 'Glendale', 'Arizona'), ('81-9778944', 'Arie', 'Frackiewicz', 'afrackiewiczao@reverbnation.com', 'Male', 'Huntsville', 'Alabama'), ('52-8028452', 'Jamaal', 'Botger', 'jbotgerap@yelp.com', 'Male', 'Topeka', 'Kansas'), ('72-2242299', 'Jecho', 'Celiz', 'jcelizaq@google.co.jp', 'Male', 'Worcester', 'Massachusetts'), ('49-0905915', 'Ludvig', 'McMorland', 'lmcmorlandar@usgs.gov', 'Male', 'Lake Charles', 'Louisiana'), ('26-9613021', 'Geoffry', 'Acreman', 'gacremanas@mit.edu', 'Male', 'Arvada', 'Colorado'), ('32-2510555', 'Dougie', 'Schutter', 'dschutterat@angelfire.com', 'Male', 'San Bernardino', 'California'), ('68-9619400', 'Parrnell', 'Lamberton', 'plambertonau@ftc.gov', 'Male', 'Washington', 'District of Columbia'), ('58-6631139', 'Salome', 'Huyche', 'shuycheav@ted.com', 'Female', 'Syracuse', 'New York'), ('69-1264940', 'Lucien', 'Mullally', 'lmullallyaw@booking.com', 'Male', 'Dallas', 'Texas'), ('04-6297149', 'Lydia', 'Affuso', 'laffusoax@baidu.com', 'Female', 'Louisville', 'Kentucky'), ('55-1487895', 'Maxim', 'Espada', 'mespadaay@dmoz.org', 'Male', 'North Las Vegas', 'Nevada'), ('05-2500125', 'Prudi', 'Dunnan', 'pdunnanaz@shareasale.com', 'Female', 'Harrisburg', 'Pennsylvania'), ('09-3310825', 'Arie', 'Milmo', 'amilmob0@elegantthemes.com', 'Male', 'Birmingham', 'Alabama'), ('93-1156112', 'Dougie', 'Cusiter', 'dcusiterb1@google.com', 'Male', 'Spokane', 'Washington'), ('48-0232388', 'Isabeau', 'Schultes', 'ischultesb2@ucla.edu', 'Female', 'Rochester', 'New York'), ('68-3350891', 'Stafford', 'Halshaw', 'shalshawb3@soup.io', 'Male', 'New Hyde Park', 'New York'), ('18-9743857', 'Tony', 'McPharlain', 'tmcpharlainb4@rambler.ru', 'Male', 'Washington', 'District of Columbia'), ('60-8922805', 'Candace', 'Wroughton', 'cwroughtonb5@topsy.com', 'Female', 'Valdosta', 'Georgia'), ('67-0854969', 'Gerrilee', 'Fealey', 'gfealeyb6@so-net.ne.jp', 'Female', 'Tampa', 'Florida'), ('74-2181812', 'Deina', 'Thebeaud', 'dthebeaudb7@narod.ru', 'Female', 'Vancouver', 'Washington'), ('87-2130095', 'Armando', 'Boldry', 'aboldryb8@ftc.gov', 'Male', 'Lincoln', 'Nebraska'), ('44-5527123', 'Jeff', 'Capener', 'jcapenerb9@google.cn', 'Male', 'Honolulu', 'Hawaii'), ('70-5094982', 'Lovell', 'Mundee', 'lmundeeba@comcast.net', 'Male', 'Washington', 'District of Columbia'), ('23-4566195', 'Hadria', 'Kitman', 'hkitmanbb@latimes.com', 'Female', 'Syracuse', 'New York'), ('56-9930375', 'Mame', 'Skingley', 'mskingleybc@tripadvisor.com', 'Female', 'Indianapolis', 'Indiana'), ('66-4404614', 'Pippa', 'Caplan', 'pcaplanbd@goo.gl', 'Female', 'Sacramento', 'California'), ('32-9229382', 'Queenie', 'Acres', 'qacresbe@altervista.org', 'Female', 'Beaumont', 'Texas'), ('22-0927285', 'Kellby', 'Merigot', 'kmerigotbf@themeforest.net', 'Male', 'San Diego', 'California'), ('45-3737726', 'Marni', 'Hunnicot', 'mhunnicotbg@linkedin.com', 'Female', 'Denton', 'Texas'), ('57-3624726', 'Sarajane', 'Gotliffe', 'sgotliffebh@creativecommons.org', 'Female', 'Torrance', 'California'), ('14-2304710', 'Verne', 'Dahl', 'vdahlbi@usda.gov', 'Male', 'Rochester', 'New York'), ('44-6642003', 'Pet', 'Wallett', 'pwallettbj@hugedomains.com', 'Female', 'South Bend', 'Indiana'), ('85-3380386', 'Lorrie', 'Watman', 'lwatmanbk@cnn.com', 'Male', 'South Bend', 'Indiana'), ('07-3444912', 'Tani', 'Bruni', 'tbrunibl@dion.ne.jp', 'Female', 'El Paso', 'Texas'), ('45-9810322', 'Elwood', 'Josey', 'ejoseybm@acquirethisname.com', 'Male', 'Jackson', 'Mississippi'), ('83-0677164', 'Bobina', 'Eshmade', 'beshmadebn@google.es', 'Female', 'Tampa', 'Florida'), ('21-5300076', 'Tiertza', 'Mc Ilory', 'tmcilorybo@addthis.com', 'Female', 'Stockton', 'California'), ('66-0422165', 'Magdalen', 'Bowkley', 'mbowkleybp@networksolutions.com', 'Female', 'Seattle', 'Washington'), ('68-9816454', 'Grantley', 'Skydall', 'gskydallbq@wsj.com', 'Male', 'Saint Paul', 'Minnesota'), ('38-8150936', 'Tobey', 'Bollam', 'tbollambr@blogger.com', 'Female', 'Las Vegas', 'Nevada'), ('25-7458021', 'Benedikt', 'Dumbelton', 'bdumbeltonbs@google.ru', 'Male', 'Sacramento', 'California'), ('30-5072004', 'Inglebert', 'Biggam', 'ibiggambt@aol.com', 'Male', 'Saginaw', 'Michigan'), ('89-9786605', 'Galen', 'Futcher', 'gfutcherbu@howstuffworks.com', 'Male', 'Odessa', 'Texas'), ('57-1297450', 'Sylvester', 'Libbe', 'slibbebv@trellian.com', 'Male', 'Austin', 'Texas'), ('29-4422912', 'Chip', 'Brehaut', 'cbrehautbw@marriott.com', 'Male', 'Seattle', 'Washington'), ('71-2342443', 'Donnamarie', 'Durden', 'ddurdenbx@theglobeandmail.com', 'Female', 'Kansas City', 'Kansas'), ('92-7769223', 'Viki', 'Mc Caughen', 'vmccaughenby@jiathis.com', 'Female', 'Bronx', 'New York'), ('02-3137841', 'Susan', 'Lowater', 'slowaterbz@hud.gov', 'Female', 'Lexington', 'Kentucky'), ('67-3727628', 'Purcell', 'Deary', 'pdearyc0@aol.com', 'Male', 'Charleston', 'West Virginia'), ('20-8822757', 'Bondie', 'Cawtheray', 'bcawtherayc1@unc.edu', 'Male', 'Los Angeles', 'California'), ('73-3269164', 'Roze', 'Gerritsma', 'rgerritsmac2@sphinn.com', 'Female', 'Dayton', 'Ohio'), ('69-6141811', 'Portie', 'Danson', 'pdansonc3@wikimedia.org', 'Male', 'Santa Barbara', 'California'), ('98-6410612', 'Flint', 'Randlesome', 'frandlesomec4@clickbank.net', 'Male', 'Youngstown', 'Ohio'), ('29-1405588', 'Roana', 'Ropkes', 'rropkesc5@earthlink.net', 'Female', 'Paterson', 'New Jersey'), ('30-8028639', 'Alla', 'Lanney', 'alanneyc6@twitpic.com', 'Female', 'Lubbock', 'Texas'), ('78-1181665', 'Grethel', 'Georgelin', 'ggeorgelinc7@umn.edu', 'Female', 'Washington', 'District of Columbia'), ('25-3903541', 'Kettie', 'McCuffie', 'kmccuffiec8@gov.uk', 'Female', 'Dallas', 'Texas'), ('16-2684095', 'Gunter', 'Marcam', 'gmarcamc9@netvibes.com', 'Male', 'Tyler', 'Texas'), ('21-5723288', 'Claudia', 'Cranmere', 'ccranmereca@yale.edu', 'Female', 'Albany', 'New York'), ('53-8722502', 'Porter', 'Crystal', 'pcrystalcb@bloglovin.com', 'Male', 'Cincinnati', 'Ohio'), ('42-2906250', 'Erskine', 'Gehring', 'egehringcc@google.cn', 'Male', 'Mount Vernon', 'New York'), ('72-3910146', 'Gordon', 'Campes', 'gcampescd@youtu.be', 'Male', 'Winston Salem', 'North Carolina'), ('90-3983719', 'Guendolen', 'Gulliver', 'ggulliverce@newsvine.com', 'Female', 'Evansville', 'Indiana'), ('76-9850257', 'Desiree', 'Lomasny', 'dlomasnycf@auda.org.au', 'Female', 'Birmingham', 'Alabama'), ('29-5017220', 'Patric', 'Huburn', 'phuburncg@theguardian.com', 'Male', 'San Diego', 'California'), ('59-5172012', 'Starlin', 'Arundel', 'sarundelch@craigslist.org', 'Female', 'San Jose', 'California'), ('62-5641771', 'Ibrahim', 'Bonafant', 'ibonafantci@omniture.com', 'Male', 'Washington', 'District of Columbia'), ('18-4144295', 'Mirella', 'Sappy', 'msappycj@hc360.com', 'Female', 'Houston', 'Texas'), ('16-6428087', 'Halli', 'Cristofaro', 'hcristofarock@amazonaws.com', 'Female', 'Jersey City', 'New Jersey'), ('10-3005810', 'Paulette', 'Philson', 'pphilsoncl@spiegel.de', 'Female', 'Monticello', 'Minnesota'), ('81-7971491', 'Charis', 'Brewood', 'cbrewoodcm@vkontakte.ru', 'Female', 'Washington', 'District of Columbia'), ('02-7602680', 'Zonda', 'Lamboll', 'zlambollcn@skyrock.com', 'Female', 'Cincinnati', 'Ohio'), ('30-6577829', 'Mirabella', \"O'Leagham\", 'moleaghamco@ycombinator.com', 'Female', 'Little Rock', 'Arkansas'), ('06-9530734', 'Alfredo', 'Easson', 'aeassoncp@nasa.gov', 'Male', 'Peoria', 'Illinois'), ('31-1075372', 'Odella', 'Fawdry', 'ofawdrycq@ed.gov', 'Female', 'Austin', 'Texas'), ('91-7821639', 'Ainsley', 'Aspell', 'aaspellcr@furl.net', 'Female', 'Austin', 'Texas'), ('73-3084301', 'Raphaela', 'Cluely', 'rcluelycs@google.com.au', 'Female', 'Louisville', 'Kentucky'), ('00-7672628', 'Benson', 'Reboul', 'breboulct@i2i.jp', 'Male', 'Sunnyvale', 'California'), ('35-5393326', 'Nicolai', 'Figgen', 'nfiggencu@cornell.edu', 'Male', 'Tucson', 'Arizona'), ('38-8307411', 'Ardelis', 'Dobell', 'adobellcv@jigsy.com', 'Female', 'Saint Louis', 'Missouri'), ('91-0340358', 'Riannon', 'Overstone', 'roverstonecw@ftc.gov', 'Female', 'Montgomery', 'Alabama'), ('15-6045311', 'Archibaldo', 'Whimpenny', 'awhimpennycx@nbcnews.com', 'Male', 'Birmingham', 'Alabama'), ('71-2287717', 'Nolly', 'Lukes', 'nlukescy@51.la', 'Male', 'Jacksonville', 'Florida'), ('74-0968734', 'Reeta', 'Rees', 'rreescz@usatoday.com', 'Female', 'Los Angeles', 'California'), ('28-7762508', 'Dorella', 'Dallow', 'ddallowd0@aol.com', 'Female', 'Columbus', 'Ohio'), ('22-3196447', 'Leo', 'Bancroft', 'lbancroftd1@dailymail.co.uk', 'Male', 'Detroit', 'Michigan'), ('87-7281185', 'Jonie', 'Begwell', 'jbegwelld2@skyrock.com', 'Female', 'Macon', 'Georgia'), ('79-7574389', 'Vin', 'Morter', 'vmorterd3@timesonline.co.uk', 'Female', 'Seattle', 'Washington'), ('63-3210049', 'Rollo', 'Peacham', 'rpeachamd4@shutterfly.com', 'Male', 'Davenport', 'Iowa'), ('32-2259938', 'Esmaria', 'Seide', 'eseided5@bluehost.com', 'Female', 'Norfolk', 'Virginia'), ('55-6933605', 'Phip', 'Beaves', 'pbeavesd6@wordpress.com', 'Male', 'Topeka', 'Kansas'), ('08-3461133', 'Renaldo', 'Power', 'rpowerd7@opera.com', 'Male', 'Fort Wayne', 'Indiana'), ('70-9717936', 'Alikee', 'Chettle', 'achettled8@wikispaces.com', 'Female', 'Tulsa', 'Oklahoma'), ('40-5005498', 'Shandeigh', 'McCarry', 'smccarryd9@qq.com', 'Female', 'Oklahoma City', 'Oklahoma'), ('50-3503842', 'Thorin', 'Harmer', 'tharmerda@github.com', 'Male', 'Cincinnati', 'Ohio'), ('78-6008836', 'Shep', 'Essery', 'sesserydb@php.net', 'Male', 'Tulsa', 'Oklahoma'), ('59-8456633', 'Bobby', 'Caldecutt', 'bcaldecuttdc@apple.com', 'Female', 'Chesapeake', 'Virginia'), ('50-8460944', 'Derek', 'Yitzhakof', 'dyitzhakofdd@nbcnews.com', 'Male', 'Johnstown', 'Pennsylvania'), ('21-6189988', 'Carter', 'Whilder', 'cwhilderde@naver.com', 'Male', 'New York City', 'New York'), ('90-8016355', 'Bud', 'Erridge', 'berridgedf@craigslist.org', 'Male', 'Chicago', 'Illinois'), ('44-3284937', 'Chico', 'Ibeson', 'cibesondg@joomla.org', 'Male', 'Des Moines', 'Iowa'), ('38-2832188', 'Amerigo', 'Krauss', 'akraussdh@meetup.com', 'Male', 'Temple', 'Texas'), ('00-5123324', 'Phip', 'Lautie', 'plautiedi@1und1.de', 'Male', 'Washington', 'District of Columbia'), ('91-5557404', 'Abeu', 'Barfford', 'abarfforddj@shinystat.com', 'Male', 'Anaheim', 'California'), ('71-2059686', 'Sidonia', 'Demead', 'sdemeaddk@domainmarket.com', 'Female', 'Austin', 'Texas'), ('96-1189370', 'Wendell', 'Caldecott', 'wcaldecottdl@nba.com', 'Male', 'Topeka', 'Kansas'), ('40-7581183', 'Edvard', 'Goodspeed', 'egoodspeeddm@istockphoto.com', 'Male', 'Jacksonville', 'Florida'), ('01-4953758', 'Even', 'Bengefield', 'ebengefielddn@go.com', 'Male', 'Saint Paul', 'Minnesota'), ('52-9299578', 'Kinny', 'Fries', 'kfriesdo@drupal.org', 'Male', 'Saint Louis', 'Missouri'), ('86-3571242', 'Noreen', 'Westbrook', 'nwestbrookdp@elpais.com', 'Female', 'Tulsa', 'Oklahoma'), ('20-5527453', 'Reena', 'Denison', 'rdenisondq@cargocollective.com', 'Female', 'Long Beach', 'California'), ('57-7498375', 'Frederica', 'Whartonby', 'fwhartonbydr@hibu.com', 'Female', 'Salt Lake City', 'Utah'), ('29-8734811', 'Giselbert', 'Greggor', 'ggreggords@t-online.de', 'Male', 'Fort Lauderdale', 'Florida'), ('81-6350607', 'Vaclav', 'Vamplus', 'vvamplusdt@wsj.com', 'Male', 'Charlotte', 'North Carolina'), ('81-7946422', 'Bobbette', 'Klimkowski', 'bklimkowskidu@chron.com', 'Female', 'Watertown', 'Massachusetts'), ('97-5800229', 'Theobald', 'Crunkhurn', 'tcrunkhurndv@pbs.org', 'Male', 'Norman', 'Oklahoma')]\n"
     ]
    }
   ],
   "source": [
    "# Viewing the customer table\n",
    "cur2.execute('''SELECT * FROM customer''')\n",
    "\n",
    "print(cur2.fetchall())"
   ]
  },
  {
   "cell_type": "code",
   "execution_count": 22,
   "metadata": {},
   "outputs": [
    {
     "ename": "IntegrityError",
     "evalue": "FOREIGN KEY constraint failed",
     "output_type": "error",
     "traceback": [
      "\u001b[1;31m---------------------------------------------------------------------------\u001b[0m",
      "\u001b[1;31mIntegrityError\u001b[0m                            Traceback (most recent call last)",
      "\u001b[1;32m<ipython-input-22-47300ec88046>\u001b[0m in \u001b[0;36m<module>\u001b[1;34m()\u001b[0m\n\u001b[1;32m----> 1\u001b[1;33m \u001b[0mcur2\u001b[0m\u001b[1;33m.\u001b[0m\u001b[0mexecute\u001b[0m\u001b[1;33m(\u001b[0m\u001b[1;34m\"INSERT INTO order_table VALUES ('PA-2742500', '06-6577274', 250, '12/15/2017', 4, 7.88);\"\u001b[0m\u001b[1;33m)\u001b[0m\u001b[1;33m\u001b[0m\u001b[0m\n\u001b[0m\u001b[0;32m      2\u001b[0m \u001b[1;33m\u001b[0m\u001b[0m\n\u001b[0;32m      3\u001b[0m \u001b[0mprint\u001b[0m\u001b[1;33m(\u001b[0m\u001b[0mcur2\u001b[0m\u001b[1;33m.\u001b[0m\u001b[0mfetchall\u001b[0m\u001b[1;33m(\u001b[0m\u001b[1;33m)\u001b[0m\u001b[1;33m)\u001b[0m\u001b[1;33m\u001b[0m\u001b[0m\n",
      "\u001b[1;31mIntegrityError\u001b[0m: FOREIGN KEY constraint failed"
     ]
    }
   ],
   "source": [
    "cur2.execute(\"INSERT INTO order_table VALUES ('PA-2742500', '06-6577274', 250, '12/15/2017', 4, 7.88);\")\n",
    "\n",
    "print(cur2.fetchall())"
   ]
  },
  {
   "cell_type": "code",
   "execution_count": 23,
   "metadata": {
    "collapsed": true
   },
   "outputs": [],
   "source": [
    "# Committing changes to salesdb.db\n",
    "conn2.commit()"
   ]
  },
  {
   "cell_type": "code",
   "execution_count": 24,
   "metadata": {
    "collapsed": true
   },
   "outputs": [],
   "source": [
    "# Closing connection to salesdb.db\n",
    "conn2.close()"
   ]
  }
 ],
 "metadata": {
  "kernelspec": {
   "display_name": "Python 3",
   "language": "python",
   "name": "python3"
  },
  "language_info": {
   "codemirror_mode": {
    "name": "ipython",
    "version": 3
   },
   "file_extension": ".py",
   "mimetype": "text/x-python",
   "name": "python",
   "nbconvert_exporter": "python",
   "pygments_lexer": "ipython3",
   "version": "3.6.1"
  }
 },
 "nbformat": 4,
 "nbformat_minor": 2
}
